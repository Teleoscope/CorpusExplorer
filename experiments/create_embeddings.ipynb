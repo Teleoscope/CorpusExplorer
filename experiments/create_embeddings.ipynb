{
 "cells": [
  {
   "cell_type": "code",
   "execution_count": 1,
   "id": "25c64a42-615b-40e3-96d3-62d6a7100522",
   "metadata": {},
   "outputs": [],
   "source": [
    "import pickle, tqdm, time, os, tensorflow_hub as hub, numpy as np, pandas as pd"
   ]
  },
  {
   "cell_type": "markdown",
   "id": "18478e03-2a79-4b1d-967c-6028181b150e",
   "metadata": {},
   "source": [
    "**Read Data Stored Locally**"
   ]
  },
  {
   "cell_type": "code",
   "execution_count": 2,
   "id": "5087c334-ca2b-437c-bf53-b1fb47f25d3f",
   "metadata": {},
   "outputs": [],
   "source": [
    "# All have order preserved across them\n",
    "titles = pd.read_pickle('data/titles.pkl')\n",
    "ids = pd.read_pickle('data/ids.pkl')\n",
    "texts = pd.read_pickle('data/texts.pkl')"
   ]
  },
  {
   "cell_type": "code",
   "execution_count": 3,
   "id": "8ab68748-3eac-4f5e-b1c2-15efe9c95658",
   "metadata": {},
   "outputs": [],
   "source": [
    "# create df\n",
    "df = pd.DataFrame()\n",
    "df['ids'] = ids\n",
    "df['titles'] = titles\n",
    "df['texts'] = texts"
   ]
  },
  {
   "cell_type": "code",
   "execution_count": 4,
   "id": "6176bd96-0056-4d51-8b3e-0e3aa3a77de6",
   "metadata": {},
   "outputs": [
    {
     "data": {
      "text/plain": [
       "ids           1\n",
       "titles        2\n",
       "texts     14189\n",
       "dtype: int64"
      ]
     },
     "execution_count": 4,
     "metadata": {},
     "output_type": "execute_result"
    }
   ],
   "source": [
    "df.isna().sum()"
   ]
  },
  {
   "cell_type": "code",
   "execution_count": 5,
   "id": "d5c7e1dd-d07b-4065-ac03-ac270220f46f",
   "metadata": {},
   "outputs": [],
   "source": [
    "# drop all entries which have a null value in any of id, titles, texts\n",
    "df = df.dropna().copy()\n",
    "df = df.reset_index(drop=True).copy()"
   ]
  },
  {
   "cell_type": "code",
   "execution_count": 6,
   "id": "aa82e28b-2d40-47ce-ae0f-9666299d164a",
   "metadata": {},
   "outputs": [
    {
     "data": {
      "text/html": [
       "<div>\n",
       "<style scoped>\n",
       "    .dataframe tbody tr th:only-of-type {\n",
       "        vertical-align: middle;\n",
       "    }\n",
       "\n",
       "    .dataframe tbody tr th {\n",
       "        vertical-align: top;\n",
       "    }\n",
       "\n",
       "    .dataframe thead th {\n",
       "        text-align: right;\n",
       "    }\n",
       "</style>\n",
       "<table border=\"1\" class=\"dataframe\">\n",
       "  <thead>\n",
       "    <tr style=\"text-align: right;\">\n",
       "      <th></th>\n",
       "      <th>ids</th>\n",
       "      <th>titles</th>\n",
       "      <th>texts</th>\n",
       "    </tr>\n",
       "  </thead>\n",
       "  <tbody>\n",
       "    <tr>\n",
       "      <th>0</th>\n",
       "      <td>j1f7am</td>\n",
       "      <td>AITA for not talking to my mom and not letting...</td>\n",
       "      <td>I’m a 25 yr old female and my husband is 25. W...</td>\n",
       "    </tr>\n",
       "    <tr>\n",
       "      <th>1</th>\n",
       "      <td>j1f71q</td>\n",
       "      <td>AITA for telling a women I am not interested a...</td>\n",
       "      <td>This happened last night and I am still proces...</td>\n",
       "    </tr>\n",
       "    <tr>\n",
       "      <th>2</th>\n",
       "      <td>j1f6tt</td>\n",
       "      <td>AITA for giving up on a friend who has been di...</td>\n",
       "      <td>I (19 M) have one of my busiest semester this ...</td>\n",
       "    </tr>\n",
       "    <tr>\n",
       "      <th>3</th>\n",
       "      <td>j1f6r4</td>\n",
       "      <td>Will I be the asshole if I drop a metaphorical...</td>\n",
       "      <td>[removed]</td>\n",
       "    </tr>\n",
       "    <tr>\n",
       "      <th>4</th>\n",
       "      <td>j1f4so</td>\n",
       "      <td>AITA if I only want to have sex with my girlfr...</td>\n",
       "      <td>[removed]</td>\n",
       "    </tr>\n",
       "  </tbody>\n",
       "</table>\n",
       "</div>"
      ],
      "text/plain": [
       "      ids                                             titles  \\\n",
       "0  j1f7am  AITA for not talking to my mom and not letting...   \n",
       "1  j1f71q  AITA for telling a women I am not interested a...   \n",
       "2  j1f6tt  AITA for giving up on a friend who has been di...   \n",
       "3  j1f6r4  Will I be the asshole if I drop a metaphorical...   \n",
       "4  j1f4so  AITA if I only want to have sex with my girlfr...   \n",
       "\n",
       "                                               texts  \n",
       "0  I’m a 25 yr old female and my husband is 25. W...  \n",
       "1  This happened last night and I am still proces...  \n",
       "2  I (19 M) have one of my busiest semester this ...  \n",
       "3                                          [removed]  \n",
       "4                                          [removed]  "
      ]
     },
     "execution_count": 6,
     "metadata": {},
     "output_type": "execute_result"
    }
   ],
   "source": [
    "df.head()"
   ]
  },
  {
   "cell_type": "code",
   "execution_count": 7,
   "id": "1bb9fabb-a49a-42d7-9eeb-0e98efb40a11",
   "metadata": {
    "scrolled": true,
    "tags": []
   },
   "outputs": [
    {
     "data": {
      "text/plain": [
       "[removed]                                                                                                                                                                                                                                                                                                                                                                                                                                                                                                                                                                                                                                                                                                                                                                                                                                                                                                                                                                                                                                                                                                                                                                                                                                                                                                                                                                                                                                                                                                                                                                                                                                                                                                                                                                                                                                                                                                                                                                                                                                                                                                                                                                                                                                                                                                                                                                                                                                                                                                                                                                                                                                                                                                                                                                                                                                                                                                                                                                                                                                                                                                                                                                                                                                                                                                                                                                                                                                                                                                                                                                                                                                                                                                                                                                                                                                                                                                                                                                                                                                                                                                                                                                                                                                                                                                                                                                                                                                                                                                                                                                                                                                                                                                                                                                                                                                                                                                                                                                                                                                                                                                                                                                                                                                                                                                                                                                                                       172265\n",
       "[deleted]                                                                                                                                                                                                                                                                                                                                                                                                                                                                                                                                                                                                                                                                                                                                                                                                                                                                                                                                                                                                                                                                                                                                                                                                                                                                                                                                                                                                                                                                                                                                                                                                                                                                                                                                                                                                                                                                                                                                                                                                                                                                                                                                                                                                                                                                                                                                                                                                                                                                                                                                                                                                                                                                                                                                                                                                                                                                                                                                                                                                                                                                                                                                                                                                                                                                                                                                                                                                                                                                                                                                                                                                                                                                                                                                                                                                                                                                                                                                                                                                                                                                                                                                                                                                                                                                                                                                                                                                                                                                                                                                                                                                                                                                                                                                                                                                                                                                                                                                                                                                                                                                                                                                                                                                                                                                                                                                                                                                         5986\n",
       "TLDR: I get paid about $2000 every month to home share with my autistic brother but my parents don’t want him with us full time as they want control. Which I get and support. Should we give them the $2000 we get or should we keep it and use it for bills? \\n\\n\\n My (23F) husband (26M) and I recently started doing a home share program with my autistic brother so he would not lose his funding through the government. Basically we get paid about $2000 a month so that he can keep getting money from the government. Once you lose this money it’s nearly impossible to get back and even though he is okay right now he could need it in the future so we agreed. \\n\\nEdit: I just wanted to explain my relationship to my parents as well to see if that adds perspective. \\n\\nMy mom and I have a strained relationship. I love her so much but we were abused by my moms second husband badly and I was very angry at her for a long time for not leaving the situation. I have a relationship with her now but it’s very basic. We text and sometimes go for walks but still has an odd feeling to it. I was told by a therapist this is normal for child abuse victims as they don’t develop the same love and connection as kids who come from more secure families. I can’t talk to her about anything serious though as she tells my current step dad everything and than he ends up lecturing me about it. I don’t have that level of comfort confiding in her I would love to have. \\n\\nMy step dad. This is a tough relationship for me. On one hand I think he is an awesome guy. My mom loves him. He is hard working and has good morals. He stepped up to the plate with my brother and I am grateful. He has also helped my husband and I in many ways. The bad side to this is I am very afraid of him. Due to the trauma I suffered as a kid I find a lot of men terrifying to talk to. (I was sexually abused as well). My step dad came into our home when I was 16. I think he and my mom started talking when I was 14. I felt very uncomfortable from the beginning. I had not dealt with the fact that I was sexually abused by both my past step dad and my ex boyfriend. He came in with force and took over the dad role very quickly. My mom became subservient to him and basically only does as he says when it comes to dealing with my brother and life in general. I don’t think he means to be this way and I would love to have a good relationship with him but as of now I can’t talk to him. I can’t control my emotions around him as I break down fast. He once called it crocodile tears and that really affected the way I saw him. At first I thought it was me and than I realized it was also him that was the issue. There is no way I’ll probably ever have the confidence to have this talk with him so it’s just awkward and I don’t visit often. \\n\\nAt first it was all good. He came and stayed with us half the month for the first month of this arrangement. We got the money and used it for bills. I felt fine with that. \\n\\nMy parents stopped that as they wanted full control which I 100% understand. I am only 23 and am not ready to deal with my brother full time. I expect one day when they retire if they become unable to take care of him or he is unable to achieve independence I will become responsible which again I am 100% for. I love my brother and I want to help. \\n\\nWe had a conversation recently, before I knew this wasn’t how it was meant to be set up (my brother being with us half the month wasn’t suppose to happen) and we had a talk with my step dad. He seemed very angry as if we were deceiving him for extra money. As much as the money does help, I am also helping them and in my mind I was doing the right thing. It was a very accusatory conversation where I felt I was being talked down to. I felt so bad because I was so worried I’d mess something up and now my parents thought we were doing something wrong because I misunderstood what I was supposed to do. I was told by my mom to call and what to say and it went from there at the beginning. Now they are acting like I’m stealing? I wasn’t happy.\\n\\nNow we are still getting that $2000 a month as it’s direct deposited to me as per the original arrangement made with the program person we did the home share through. The lady on our case knows full well he isn’t actually staying the full month or even half the month anymore but only some weekends (although not lately due to the world wide issue going on). \\n\\nShe mentioned in the meeting we might just figure out what to do as a group with the $2000/month but we didn’t not discuss actually giving them any. This money is money received like through a job for taking on responsibility and not part of the money my brother gets from the government. This is also paid through the government directly to me. \\n\\nMy husband thinks since we made this agreement and my parents have not brought it up that we should just use it for bills and savings. I personally feel weird using it as we are not fully doing what we are getting paid to do. It’s also not our fault this isn’t happening though. \\n\\nShould we give the money to my parents every month? Or should we just keep using it for bills? AITA in this situation?        27\n",
       "So i had pc which i used pretty much daily, I had removed it's parts out of the case so I can clean it.\\n\\nI screwed up and damaged the case only(cut the front panel wires by accident thinking they were useless) after that i used the pc normally but it's parts were dangling a bit but usable my mom saw me more than twice using it so she saw that it was used by me.\\n\\n Anyway cut to few months back my mom was selling old stuff out I told more than three times that they don't sell my pc because i use it(it's 10 years old so they thought they can sell it) they sold it anyway and i was mad but didn't do anything about.\\n\\nMy mother 2 weeks ago gave me her phone(it's one of the new ones) in exchange for not using my study tablet(I used to play with it since i had no phones other than that tablet btw it's given to us by the government so we can take the exams at home) so i agreed to the offer and took it, we come to today when she told me she wants it back and doesn't care about what happens to the tablet so i told her no and brought up when she sold the pc and we argued for a bit about it.\\n\\n\\nSo reddit aita?                                                                                                                                                                                                                                                                                                                                                                                                                                                                                                                                                                                                                                                                                                                                                                                                                                                                                                                                                                                                                                                                                                                                                                                                                                                                                                                                                                                                                                                                                                                                                                                                                                                                                                                                                                                                                                                                                                                                                                                                                                                                                                                                                                                                                                                                                                                                                                                                                                                                                                                                                                                                                                                                                                                                                                                                                                                                                                                                                                                                                                                                                                                                                                                                                                                                                                                                                                                                                                                                                                                                                                                                                                                                                                                                                                                                                                                                                                                                                                                                                                                                                                                                                                                                                                                   22\n",
       "So me and my boyfriend have a beautiful ragdoll rescue cat. He does seem to favour me more but I think that's just because his previous owner who was a male wasn't too nice to him.\\nWhen I woke up today after my night shift my boyfriend told me the cat has pooed and weed on the floor. I said well yeah if his litter tray is not clean he will not use it. I've told him this before, he knows this information.\\nAnyway I dropped him off at work and he told me he 'did that thing where you put their face in the wee so they don't do it again'. Well I absolutely lost it, I was furious that he'd do that, I actually thought he was joking I couldn't believe he was serious. Obviously I know that was ridiculous, I did study animal management in college.\\nSo I shouted at him no wonder he likes me more than you. Obviously I know he was the total asshoke for what he did. But was I wrong for the cheap shot?\\nHe has since apologised and said he'd never do it again he just thought that's what you do to prevent accidents happening again.                                                                                                                                                                                                                                                                                                                                                                                                                                                                                                                                                                                                                                                                                                                                                                                                                                                                                                                                                                                                                                                                                                                                                                                                                                                                                                                                                                                                                                                                                                                                                                                                                                                                                                                                                                                                                                                                                                                                                                                                                                                                                                                                                                                                                                                                                                                                                                                                                                                                                                                                                                                                                                                                                                                                                                                                                                                                                                                                                                                                                                                                                                                                                                                                                                                                                                                                                                                                                                                                                                                                                                                                                                                                                                                                                                                                                                                                                                                                                                                                                                                                                                                                                                                                                                                                                                                                             19\n",
       "                                                                                                                                                                                                                                                                                                                                                                                                                                                                                                                                                                                                                                                                                                                                                                                                                                                                                                                                                                                                                                                                                                                                                                                                                                                                                                                                                                                                                                                                                                                                                                                                                                                                                                                                                                                                                                                                                                                                                                                                                                                                                                                                                                                                                                                                                                                                                                                                                                                                                                                                                                                                                                                                                                                                                                                                                                                                                                                                                                                                                                                                                                                                                                                                                                                                                                                                                                                                                                                                                                                                                                                                                                                                                                                                                                                                                                                                                                                                                                                                                                                                                                                                                                                                                                                                                                                                                                                                                                                                                                                                                                                                                                                                                                                                                                                                                                                                                                                                                                                                                                                                                                                                                                                                                                                                                                                                                                                                                 ...  \n",
       "I am agonizing over this. I have been seeing someone off and on for a couple of years. He is very much overweight. That in itself is not the problem for me. However, when we go out in public, his belly and/or his backside are often in full view. He has a large belly that hangs out and hangs very low; his shirts are too short, and his pants are always riding down... I feel that it makes people uncomfortable. I admit that it makes me uncomfortable when I notice other people noticing it. However, he’s very sensitive about this, and for the life of me I can’t comprehend how he is either unaware or unwilling to cover up. If he wears a shirt that’s long enough, it’s under control, but often he is uncovered enough to risk an indecent exposure citation. He is an otherwise great person. His weight affects our relationship in other ways, but this is the one thing I can’t bring myself to address. AITA if I try to address this with him? I am often afraid to have him join me around friends and family because it is quite shocking if one is meeting him for the first time.                                                                                                                                                                                                                                                                                                                                                                                                                                                                                                                                                                                                                                                                                                                                                                                                                                                                                                                                                                                                                                                                                                                                                                                                                                                                                                                                                                                                                                                                                                                                                                                                                                                                                                                                                                                                                                                                                                                                                                                                                                                                                                                                                                                                                                                                                                                                                                                                                                                                                                                                                                                                                                                                                                                                                                                                                                                                                                                                                                                                                                                                                                                                                                                                                                                                                                                                                                                                                                                                                                                                                                                                                                                                                                                                                                                                                                                                                                                                                                                                                                                                                                                                                                                                                                                                                                    1\n",
       " So, I was in my room playing Mario Kart Wii (which in my opinion is the second best Mario Kart Game 1st being Double Dash) when I was summoned by the call of my mothers voice. I then paused my race (i was in retro course n64 Sherbet Land if you care) I went up to the door of my mothers room, and then the following interaction happened\\n\\nMe: Yes mother? Mom: Get off the Xbox (yes, she actually said Xbox)\\n\\nMe: What? It's not an Xbo- Mom: I don't care, you need a shower and no electronics past \\*insert BS time here which she never said in the past\\*\\n\\nMe: I already got a shower, and I just wanna finish this game before I get of-\\n\\nMom: Ok so that's one day for back talking\\n\\nMe: One day of what\\n\\nMom: No laptop and Xbox ( I don't know where she got a laptop from but ok) Your not allowed on any electronics past \\*insert time here\\* except a TV\\n\\nMe: Mom, a TV has the same electrical components that can be used fo-\\n\\nMom: Make it two days.\\n\\nMe(note I had to deal with this for 2 years now): MOM! Listen for once! I'm just trying to sa-\\n\\nMom: No! I don't have to listen! I'm the parent, your the child that's how it works\\n\\nMe: BUT IT'S REALLY NO-\\n\\nMom: Three days!\\n\\nMe: YA KNOW WHAT! Fine, I give up. You never listen to me at all in the first place. I don't know why I tr-\\n\\nMom: FOUR DAYS.\\n\\nMe: Ok bye\\n\\nAm I the ass-hole in this situation? I'm like so confused af. Note this isn't the first time that she used BS time stamps to get me in trouble somehow. It's gotten so bad, that everyone else who also lives in the house with me tries to give me their stuff so I can have a normal teenage childhood.\\n\\nAlso, she's about a year or 2 away from being a boomer.                                                                                                                                                                                                                                                                                                                                                                                                                                                                                                                                                                                                                                                                                                                                                                                                                                                                                                                                                                                                                                                                                                                                                                                                                                                                                                                                                                                                                                                                                                                                                                                                                                                                                                                                                                                                                                                                                                                                                                                                                                                                                                                                                                                                                                                                                                                                                                                                                                                                                                                                                                                                                                                                                                                                                                                                                                                                                                                                                                                                                                                                                                                                                                                                                                                                                                                                                                                                                                                                                                                                                                                                                                                       1\n",
       " I'm going to try to keep this short and sweet, but a heads up it's kinda long.\\n\\nMy friend asked me to help her move dorm rooms today, told me her mother even offered to pay me to help. I agreed, but told her I needed to come over early because today is also my grandma's birthday and I needed to be home by 4 PM to celebrate, she says that's cool so we work out a time and we're good to go.\\n\\nNow, I'm flat broke right now. I'm a freelance/commission-based artist, but I'm not getting any work right now and finding a side job has been very difficult for me lately. She knows I'm broke, *everyone* in my friend group knows I'm broke. It's common knowledge.\\n\\nThe money she sent me was supposed to go to gas for my car (it was sent through Paypal) but I didn't get it until 4AM so it wouldn't transfer until tomorrow. I used the last of my money from my birthday jar (a little jar I have to save up for my 21st bday later this year) to pay for gas and a cup of coffee (I wanted to treat myself, it's been a rough week).\\n\\nSo I help her clean her dorm out and around 11 she said she wanted to do lunch at 1, I said okay. We'd already run some errands for the day (I did the driving for all, she has no license) and we’d slowed down a bit at 12:30 so we went for lunch then.\\n\\nNow *because* it's common knowledge that I'm broke, I asked her if she'd pay for my lunch. I didn't think it'd be a big deal (normally I hate asking for handouts) because I drove an hour out to her dorm already, drove her around for her errands, and had been cleaning her dorm out for the past hour.\\n\\nShe immediately starts acting like it’s a big deal, sighing as loud as she can and rifling through her wallet, talking about how she can’t pay on her credit card because the *last* thing she needs is to rack up more debt, going through cards and saying she’ll have to check the amount left on her debit card.\\n\\nI try to apologize, I feel like I shouldn’t have bought the coffee now, and remind her that I’m broke and I’m sorry. I feel embarrassed because people are looking at us and like any emotional 20 year old, I want to cry.\\n\\nThe thing, though? Is that we were getting lunch at a Taco Bell. Quite possibly the cheapest fast food restaurant in the country. *And* she’d just gotten paid $200 dollars two days before and taken on two more commissions this week. \\n\\nSo I don’t know. I spent my birthday fund trying to help her out (even if I am getting paid back), but I also spent my grandma’s birthday helping her move her dorm and driving her out on her errands for the day (it takes me an hour to drive out to her dorms, too). Basically I used a lot of gas and energy helping her out and she made me feel awful. \\n\\nBut just because my feelings were hurt doesn’t mean that I’m in the right, so… AITA?                                                                                                                                                                                                                                                                                                                                                                                                                                                                                                                                                                                                                                                                                                                                                                                                                                                                                                                                                                                                                                                                                                                                                                                                                                                                                                                                                                                                                                                                                                                                                                                                                                                                                                                                                                                                                                                                                                                                                                                                                                                                                                                                                                                                                                                                                                                                                                                                                                                                                                           1\n",
       "So a friend of mine recently got broken up with about 5 months ago, she is lesbian and living in a state where many people judge you for being gay and has not had many relationships in the past.   \\nshe started drinking more and even told me that she started doing crack as a way of dealing with being brokenhearted and had not slept for 4 days.  \\nshe ended up borrowing money from me and i had to go to her house and confront her to get it back \"She borrowed the money a few weeks before she told me about her doing crack\"  \\nAfter multiple attempts of being there for her and trying to support her and having her treat me badly or just ghost me i finally told her i could not do it anymore.  \\nher response was to tell me i was crazy and that she had not done crack in years and that her ignoring me and treating me badly was because she was focusing on repairing her relationship with her ex and her ex's family.  \\n\\n\\nI don't understand why she said she has not done crack in years when she literally told me she had been up for a few days straight and had been high on it the very last time i spent time with her a month or two ago. AITA for being hurt by her behavior and ending the friendship?                                                                                                                                                                                                                                                                                                                                                                                                                                                                                                                                                                                                                                                                                                                                                                                                                                                                                                                                                                                                                                                                                                                                                                                                                                                                                                                                                                                                                                                                                                                                                                                                                                                                                                                                                                                                                                                                                                                                                                                                                                                                                                                                                                                                                                                                                                                                                                                                                                                                                                                                                                                                                                                                                                                                                                                                                                                                                                                                                                                                                                                                                                                                                                                                                                                                                                                                                                                                                                                                                                                                                                                                                                                                                                                                                                                                                                                                                                                                                                                                                                                                                                                                                                   1\n",
       "I work in an office that requires me to wear a suit all the time.  I work more hours than everyone.  Show up first, leave late, etc.  The office has an air conditioning system which I turn on and set to 72º every morning.  We don't run it at night.  It's in New England and humid as fuck, so when you come in early, the place is dripping wet making it easy to feel uncomfortable at 70º when you always have to wear a coat and long pants.  But after an hour of dehumidifying, 72º is fine.  A co-worker of mine who only comes in once a week (and usually late) comes in dressed in designer clothes fit for going to the beach on a hot day and announces that it's too cold in here.  I can't wear less and be dressed appropriately, and management isn't going to take the risk of criticizing a woman's fashion choices.   I told her to wear a freaking sweater and left the AC on.  *Am I the Asshole?*\\n\\n**TL;DR: I adjust the AC to make it comfortable in work-appropriate clothes.  My co-worker wants the whole office hotter so she can dress like she's outside in the summer.**                                                                                                                                                                                                                                                                                                                                                                                                                                                                                                                                                                                                                                                                                                                                                                                                                                                                                                                                                                                                                                                                                                                                                                                                                                                                                                                                                                                                                                                                                                                                                                                                                                                                                                                                                                                                                                                                                                                                                                                                                                                                                                                                                                                                                                                                                                                                                                                                                                                                                                                                                                                                                                                                                                                                                                                                                                                                                                                                                                                                                                                                                                                                                                                                                                                                                                                                                                                                                                                                                                                                                                                                                                                                                                                                                                                                                                                                                                                                                                                                                                                                                                                                                                                                                                                                                                        1\n",
       "Name: texts, Length: 485546, dtype: int64"
      ]
     },
     "execution_count": 7,
     "metadata": {},
     "output_type": "execute_result"
    }
   ],
   "source": [
    "df['texts'].value_counts()"
   ]
  },
  {
   "cell_type": "code",
   "execution_count": 8,
   "id": "6c0fdb93-fadd-4b0c-ba21-1b9d7ac56bed",
   "metadata": {
    "scrolled": true,
    "tags": []
   },
   "outputs": [
    {
     "data": {
      "text/plain": [
       "AITA                                                                                  871\n",
       "AITA?                                                                                 283\n",
       "Am I the asshole?                                                                     100\n",
       "WIBTA                                                                                  88\n",
       "AIs from AI Dungeon 2 to sexy to funny and one based wholly on Reddit!                 79\n",
       "                                                                                     ... \n",
       "AITA for not caring about my sister crying?                                             1\n",
       "AITA for kicking out my younger brother from his room                                   1\n",
       "AITA My friend was sleeping around during lockdown so I called her a selfish c*nt.      1\n",
       "AITA for demanding a small family run business to refund my 4 months old purchase?      1\n",
       "AItA: I like air conditioning and my coworkers like working half-naked.                 1\n",
       "Name: titles, Length: 625143, dtype: int64"
      ]
     },
     "execution_count": 8,
     "metadata": {},
     "output_type": "execute_result"
    }
   ],
   "source": [
    "df['titles'].value_counts()"
   ]
  },
  {
   "cell_type": "code",
   "execution_count": 9,
   "id": "0197071e-38f9-4946-a9c4-bfac0b7604a2",
   "metadata": {},
   "outputs": [],
   "source": [
    "#remove entries that have deleted or removed text\n",
    "df = df[(df['texts'] != '[removed]') & (df['texts'] != '[deleted]')].copy()"
   ]
  },
  {
   "cell_type": "code",
   "execution_count": 10,
   "id": "35c3c5bc-e708-4f9d-803f-9e78f50fd5a6",
   "metadata": {},
   "outputs": [
    {
     "data": {
      "text/plain": [
       "(490330, 3)"
      ]
     },
     "execution_count": 10,
     "metadata": {},
     "output_type": "execute_result"
    }
   ],
   "source": [
    "df.shape"
   ]
  },
  {
   "cell_type": "code",
   "execution_count": 11,
   "id": "3ac9a528-5d88-493a-a618-87b8c8298e27",
   "metadata": {},
   "outputs": [],
   "source": [
    "# df.to_pickle('data/clean_data.pkl')"
   ]
  },
  {
   "cell_type": "code",
   "execution_count": 12,
   "id": "5daecdb6-7dc6-48fb-b094-0b3af89b01b3",
   "metadata": {},
   "outputs": [],
   "source": [
    "NUM_DOCS = len(df)"
   ]
  },
  {
   "cell_type": "code",
   "execution_count": 13,
   "id": "7a7a96e6-2884-4d88-90a6-756615a7163b",
   "metadata": {},
   "outputs": [
    {
     "name": "stdout",
     "output_type": "stream",
     "text": [
      "model cached\n"
     ]
    }
   ],
   "source": [
    "# load & cache tensorflow model\n",
    "embed = hub.load(\"https://tfhub.dev/google/universal-sentence-encoder-large/5\")\n",
    "embed(['testing'])\n",
    "print('model cached')"
   ]
  },
  {
   "cell_type": "code",
   "execution_count": 14,
   "id": "88cc2236-05db-4b3b-9007-8fcd9341da6c",
   "metadata": {},
   "outputs": [],
   "source": [
    "from tensorflow.python.client import device_lib"
   ]
  },
  {
   "cell_type": "code",
   "execution_count": 15,
   "id": "ca476128-66bf-4857-b741-9cd054b067d3",
   "metadata": {},
   "outputs": [],
   "source": [
    "def get_available_gpus():\n",
    "    local_device_protos = device_lib.list_local_devices()\n",
    "    return [x.name for x in local_device_protos if x.device_type == 'GPU']"
   ]
  },
  {
   "cell_type": "code",
   "execution_count": 16,
   "id": "60b749f3-06c7-4088-83b8-dafef3eaff1a",
   "metadata": {},
   "outputs": [
    {
     "data": {
      "text/plain": [
       "['/device:GPU:0']"
      ]
     },
     "execution_count": 16,
     "metadata": {},
     "output_type": "execute_result"
    }
   ],
   "source": [
    "get_available_gpus()"
   ]
  },
  {
   "cell_type": "markdown",
   "id": "20d34ea3-3766-4c4a-ab8e-79e5ae1e7f9e",
   "metadata": {},
   "source": [
    "**Converting Each Post From Text To Embedding**\n",
    "- Start off with using the title of the post only"
   ]
  },
  {
   "cell_type": "code",
   "execution_count": 17,
   "id": "63223ba6-2e1f-4ebc-8bfc-451e174f4777",
   "metadata": {},
   "outputs": [],
   "source": [
    "# calculates end index for a particular iteration for looping through documents in batches\n",
    "def calcEndIdx(start_idx, batch_size, ndocs):\n",
    "    end_idx = start_idx + batch_size\n",
    "    end_idx = ndocs if end_idx > ndocs - 1 else end_idx\n",
    "    return end_idx"
   ]
  },
  {
   "cell_type": "code",
   "execution_count": 22,
   "id": "739ebf11-d9e5-4fc6-bc68-b46900f47b7e",
   "metadata": {},
   "outputs": [
    {
     "name": "stderr",
     "output_type": "stream",
     "text": [
      "<ipython-input-22-0c7a183029b6>:7: TqdmDeprecationWarning: This function will be removed in tqdm==5.0.0\n",
      "Please use `tqdm.notebook.tqdm` instead of `tqdm.tqdm_notebook`\n",
      "  for start_idx in tqdm.tqdm_notebook(range(232800, NUM_DOCS, BATCH_SIZE)):\n"
     ]
    },
    {
     "data": {
      "application/vnd.jupyter.widget-view+json": {
       "model_id": "11254bc62f744fe1a506fd18acfc9f66",
       "version_major": 2,
       "version_minor": 0
      },
      "text/plain": [
       "  0%|          | 0/16096 [00:00<?, ?it/s]"
      ]
     },
     "metadata": {},
     "output_type": "display_data"
    },
    {
     "ename": "ResourceExhaustedError",
     "evalue": "2 root error(s) found.\n  (0) Resource exhausted:  OOM when allocating tensor with shape[16,8,5530,5530] and type float on /job:localhost/replica:0/task:0/device:GPU:0 by allocator GPU_0_bfc\n\t [[{{node StatefulPartitionedCall/StatefulPartitionedCall/EncoderTransformer/Transformer/SparseTransformerEncode/Layer_0/SelfAttention/SparseMultiheadAttention/DotProductAttention/MatMul}}]]\nHint: If you want to see a list of allocated tensors when OOM happens, add report_tensor_allocations_upon_oom to RunOptions for current allocation info.\n\n\t [[StatefulPartitionedCall/StatefulPartitionedCall/EncoderTransformer/Transformer/layer_prepostprocess/layer_norm/add_1/_240]]\nHint: If you want to see a list of allocated tensors when OOM happens, add report_tensor_allocations_upon_oom to RunOptions for current allocation info.\n\n  (1) Resource exhausted:  OOM when allocating tensor with shape[16,8,5530,5530] and type float on /job:localhost/replica:0/task:0/device:GPU:0 by allocator GPU_0_bfc\n\t [[{{node StatefulPartitionedCall/StatefulPartitionedCall/EncoderTransformer/Transformer/SparseTransformerEncode/Layer_0/SelfAttention/SparseMultiheadAttention/DotProductAttention/MatMul}}]]\nHint: If you want to see a list of allocated tensors when OOM happens, add report_tensor_allocations_upon_oom to RunOptions for current allocation info.\n\n0 successful operations.\n0 derived errors ignored. [Op:__inference_restored_function_body_70304]\n\nFunction call stack:\nrestored_function_body -> restored_function_body\n",
     "output_type": "error",
     "traceback": [
      "\u001b[1;31m---------------------------------------------------------------------------\u001b[0m",
      "\u001b[1;31mResourceExhaustedError\u001b[0m                    Traceback (most recent call last)",
      "\u001b[1;32m<ipython-input-22-0c7a183029b6>\u001b[0m in \u001b[0;36m<module>\u001b[1;34m\u001b[0m\n\u001b[0;32m      7\u001b[0m \u001b[1;32mfor\u001b[0m \u001b[0mstart_idx\u001b[0m \u001b[1;32min\u001b[0m \u001b[0mtqdm\u001b[0m\u001b[1;33m.\u001b[0m\u001b[0mtqdm_notebook\u001b[0m\u001b[1;33m(\u001b[0m\u001b[0mrange\u001b[0m\u001b[1;33m(\u001b[0m\u001b[1;36m232800\u001b[0m\u001b[1;33m,\u001b[0m \u001b[0mNUM_DOCS\u001b[0m\u001b[1;33m,\u001b[0m \u001b[0mBATCH_SIZE\u001b[0m\u001b[1;33m)\u001b[0m\u001b[1;33m)\u001b[0m\u001b[1;33m:\u001b[0m\u001b[1;33m\u001b[0m\u001b[1;33m\u001b[0m\u001b[0m\n\u001b[0;32m      8\u001b[0m     \u001b[0mend_idx\u001b[0m \u001b[1;33m=\u001b[0m \u001b[0mcalcEndIdx\u001b[0m\u001b[1;33m(\u001b[0m\u001b[0mstart_idx\u001b[0m\u001b[1;33m,\u001b[0m \u001b[0mBATCH_SIZE\u001b[0m\u001b[1;33m,\u001b[0m \u001b[0mNUM_DOCS\u001b[0m\u001b[1;33m)\u001b[0m\u001b[1;33m\u001b[0m\u001b[1;33m\u001b[0m\u001b[0m\n\u001b[1;32m----> 9\u001b[1;33m     \u001b[0mcurr_embeddings\u001b[0m \u001b[1;33m=\u001b[0m \u001b[0membed\u001b[0m\u001b[1;33m(\u001b[0m\u001b[0mtext_data\u001b[0m\u001b[1;33m[\u001b[0m\u001b[0mstart_idx\u001b[0m\u001b[1;33m:\u001b[0m\u001b[0mend_idx\u001b[0m\u001b[1;33m]\u001b[0m\u001b[1;33m)\u001b[0m\u001b[1;33m.\u001b[0m\u001b[0mnumpy\u001b[0m\u001b[1;33m(\u001b[0m\u001b[1;33m)\u001b[0m\u001b[1;33m\u001b[0m\u001b[1;33m\u001b[0m\u001b[0m\n\u001b[0m\u001b[0;32m     10\u001b[0m     \u001b[0membeddings\u001b[0m\u001b[1;33m.\u001b[0m\u001b[0mappend\u001b[0m\u001b[1;33m(\u001b[0m\u001b[0mcurr_embeddings\u001b[0m\u001b[1;33m)\u001b[0m\u001b[1;33m\u001b[0m\u001b[1;33m\u001b[0m\u001b[0m\n\u001b[0;32m     11\u001b[0m \u001b[1;33m\u001b[0m\u001b[0m\n",
      "\u001b[1;32m~\\AppData\\Roaming\\Python\\Python38\\site-packages\\tensorflow\\python\\saved_model\\load.py\u001b[0m in \u001b[0;36m_call_attribute\u001b[1;34m(instance, *args, **kwargs)\u001b[0m\n\u001b[0;32m    668\u001b[0m \u001b[1;33m\u001b[0m\u001b[0m\n\u001b[0;32m    669\u001b[0m \u001b[1;32mdef\u001b[0m \u001b[0m_call_attribute\u001b[0m\u001b[1;33m(\u001b[0m\u001b[0minstance\u001b[0m\u001b[1;33m,\u001b[0m \u001b[1;33m*\u001b[0m\u001b[0margs\u001b[0m\u001b[1;33m,\u001b[0m \u001b[1;33m**\u001b[0m\u001b[0mkwargs\u001b[0m\u001b[1;33m)\u001b[0m\u001b[1;33m:\u001b[0m\u001b[1;33m\u001b[0m\u001b[1;33m\u001b[0m\u001b[0m\n\u001b[1;32m--> 670\u001b[1;33m   \u001b[1;32mreturn\u001b[0m \u001b[0minstance\u001b[0m\u001b[1;33m.\u001b[0m\u001b[0m__call__\u001b[0m\u001b[1;33m(\u001b[0m\u001b[1;33m*\u001b[0m\u001b[0margs\u001b[0m\u001b[1;33m,\u001b[0m \u001b[1;33m**\u001b[0m\u001b[0mkwargs\u001b[0m\u001b[1;33m)\u001b[0m\u001b[1;33m\u001b[0m\u001b[1;33m\u001b[0m\u001b[0m\n\u001b[0m\u001b[0;32m    671\u001b[0m \u001b[1;33m\u001b[0m\u001b[0m\n\u001b[0;32m    672\u001b[0m \u001b[1;33m\u001b[0m\u001b[0m\n",
      "\u001b[1;32m~\\AppData\\Roaming\\Python\\Python38\\site-packages\\tensorflow\\python\\eager\\def_function.py\u001b[0m in \u001b[0;36m__call__\u001b[1;34m(self, *args, **kwds)\u001b[0m\n\u001b[0;32m    887\u001b[0m \u001b[1;33m\u001b[0m\u001b[0m\n\u001b[0;32m    888\u001b[0m       \u001b[1;32mwith\u001b[0m \u001b[0mOptionalXlaContext\u001b[0m\u001b[1;33m(\u001b[0m\u001b[0mself\u001b[0m\u001b[1;33m.\u001b[0m\u001b[0m_jit_compile\u001b[0m\u001b[1;33m)\u001b[0m\u001b[1;33m:\u001b[0m\u001b[1;33m\u001b[0m\u001b[1;33m\u001b[0m\u001b[0m\n\u001b[1;32m--> 889\u001b[1;33m         \u001b[0mresult\u001b[0m \u001b[1;33m=\u001b[0m \u001b[0mself\u001b[0m\u001b[1;33m.\u001b[0m\u001b[0m_call\u001b[0m\u001b[1;33m(\u001b[0m\u001b[1;33m*\u001b[0m\u001b[0margs\u001b[0m\u001b[1;33m,\u001b[0m \u001b[1;33m**\u001b[0m\u001b[0mkwds\u001b[0m\u001b[1;33m)\u001b[0m\u001b[1;33m\u001b[0m\u001b[1;33m\u001b[0m\u001b[0m\n\u001b[0m\u001b[0;32m    890\u001b[0m \u001b[1;33m\u001b[0m\u001b[0m\n\u001b[0;32m    891\u001b[0m       \u001b[0mnew_tracing_count\u001b[0m \u001b[1;33m=\u001b[0m \u001b[0mself\u001b[0m\u001b[1;33m.\u001b[0m\u001b[0mexperimental_get_tracing_count\u001b[0m\u001b[1;33m(\u001b[0m\u001b[1;33m)\u001b[0m\u001b[1;33m\u001b[0m\u001b[1;33m\u001b[0m\u001b[0m\n",
      "\u001b[1;32m~\\AppData\\Roaming\\Python\\Python38\\site-packages\\tensorflow\\python\\eager\\def_function.py\u001b[0m in \u001b[0;36m_call\u001b[1;34m(self, *args, **kwds)\u001b[0m\n\u001b[0;32m    922\u001b[0m       \u001b[1;31m# In this case we have not created variables on the first call. So we can\u001b[0m\u001b[1;33m\u001b[0m\u001b[1;33m\u001b[0m\u001b[1;33m\u001b[0m\u001b[0m\n\u001b[0;32m    923\u001b[0m       \u001b[1;31m# run the first trace but we should fail if variables are created.\u001b[0m\u001b[1;33m\u001b[0m\u001b[1;33m\u001b[0m\u001b[1;33m\u001b[0m\u001b[0m\n\u001b[1;32m--> 924\u001b[1;33m       \u001b[0mresults\u001b[0m \u001b[1;33m=\u001b[0m \u001b[0mself\u001b[0m\u001b[1;33m.\u001b[0m\u001b[0m_stateful_fn\u001b[0m\u001b[1;33m(\u001b[0m\u001b[1;33m*\u001b[0m\u001b[0margs\u001b[0m\u001b[1;33m,\u001b[0m \u001b[1;33m**\u001b[0m\u001b[0mkwds\u001b[0m\u001b[1;33m)\u001b[0m\u001b[1;33m\u001b[0m\u001b[1;33m\u001b[0m\u001b[0m\n\u001b[0m\u001b[0;32m    925\u001b[0m       \u001b[1;32mif\u001b[0m \u001b[0mself\u001b[0m\u001b[1;33m.\u001b[0m\u001b[0m_created_variables\u001b[0m\u001b[1;33m:\u001b[0m\u001b[1;33m\u001b[0m\u001b[1;33m\u001b[0m\u001b[0m\n\u001b[0;32m    926\u001b[0m         raise ValueError(\"Creating variables on a non-first call to a function\"\n",
      "\u001b[1;32m~\\AppData\\Roaming\\Python\\Python38\\site-packages\\tensorflow\\python\\eager\\function.py\u001b[0m in \u001b[0;36m__call__\u001b[1;34m(self, *args, **kwargs)\u001b[0m\n\u001b[0;32m   3021\u001b[0m       (graph_function,\n\u001b[0;32m   3022\u001b[0m        filtered_flat_args) = self._maybe_define_function(args, kwargs)\n\u001b[1;32m-> 3023\u001b[1;33m     return graph_function._call_flat(\n\u001b[0m\u001b[0;32m   3024\u001b[0m         filtered_flat_args, captured_inputs=graph_function.captured_inputs)  # pylint: disable=protected-access\n\u001b[0;32m   3025\u001b[0m \u001b[1;33m\u001b[0m\u001b[0m\n",
      "\u001b[1;32m~\\AppData\\Roaming\\Python\\Python38\\site-packages\\tensorflow\\python\\eager\\function.py\u001b[0m in \u001b[0;36m_call_flat\u001b[1;34m(self, args, captured_inputs, cancellation_manager)\u001b[0m\n\u001b[0;32m   1958\u001b[0m         and executing_eagerly):\n\u001b[0;32m   1959\u001b[0m       \u001b[1;31m# No tape is watching; skip to running the function.\u001b[0m\u001b[1;33m\u001b[0m\u001b[1;33m\u001b[0m\u001b[1;33m\u001b[0m\u001b[0m\n\u001b[1;32m-> 1960\u001b[1;33m       return self._build_call_outputs(self._inference_function.call(\n\u001b[0m\u001b[0;32m   1961\u001b[0m           ctx, args, cancellation_manager=cancellation_manager))\n\u001b[0;32m   1962\u001b[0m     forward_backward = self._select_forward_and_backward_functions(\n",
      "\u001b[1;32m~\\AppData\\Roaming\\Python\\Python38\\site-packages\\tensorflow\\python\\eager\\function.py\u001b[0m in \u001b[0;36mcall\u001b[1;34m(self, ctx, args, cancellation_manager)\u001b[0m\n\u001b[0;32m    589\u001b[0m       \u001b[1;32mwith\u001b[0m \u001b[0m_InterpolateFunctionError\u001b[0m\u001b[1;33m(\u001b[0m\u001b[0mself\u001b[0m\u001b[1;33m)\u001b[0m\u001b[1;33m:\u001b[0m\u001b[1;33m\u001b[0m\u001b[1;33m\u001b[0m\u001b[0m\n\u001b[0;32m    590\u001b[0m         \u001b[1;32mif\u001b[0m \u001b[0mcancellation_manager\u001b[0m \u001b[1;32mis\u001b[0m \u001b[1;32mNone\u001b[0m\u001b[1;33m:\u001b[0m\u001b[1;33m\u001b[0m\u001b[1;33m\u001b[0m\u001b[0m\n\u001b[1;32m--> 591\u001b[1;33m           outputs = execute.execute(\n\u001b[0m\u001b[0;32m    592\u001b[0m               \u001b[0mstr\u001b[0m\u001b[1;33m(\u001b[0m\u001b[0mself\u001b[0m\u001b[1;33m.\u001b[0m\u001b[0msignature\u001b[0m\u001b[1;33m.\u001b[0m\u001b[0mname\u001b[0m\u001b[1;33m)\u001b[0m\u001b[1;33m,\u001b[0m\u001b[1;33m\u001b[0m\u001b[1;33m\u001b[0m\u001b[0m\n\u001b[0;32m    593\u001b[0m               \u001b[0mnum_outputs\u001b[0m\u001b[1;33m=\u001b[0m\u001b[0mself\u001b[0m\u001b[1;33m.\u001b[0m\u001b[0m_num_outputs\u001b[0m\u001b[1;33m,\u001b[0m\u001b[1;33m\u001b[0m\u001b[1;33m\u001b[0m\u001b[0m\n",
      "\u001b[1;32m~\\AppData\\Roaming\\Python\\Python38\\site-packages\\tensorflow\\python\\eager\\execute.py\u001b[0m in \u001b[0;36mquick_execute\u001b[1;34m(op_name, num_outputs, inputs, attrs, ctx, name)\u001b[0m\n\u001b[0;32m     57\u001b[0m   \u001b[1;32mtry\u001b[0m\u001b[1;33m:\u001b[0m\u001b[1;33m\u001b[0m\u001b[1;33m\u001b[0m\u001b[0m\n\u001b[0;32m     58\u001b[0m     \u001b[0mctx\u001b[0m\u001b[1;33m.\u001b[0m\u001b[0mensure_initialized\u001b[0m\u001b[1;33m(\u001b[0m\u001b[1;33m)\u001b[0m\u001b[1;33m\u001b[0m\u001b[1;33m\u001b[0m\u001b[0m\n\u001b[1;32m---> 59\u001b[1;33m     tensors = pywrap_tfe.TFE_Py_Execute(ctx._handle, device_name, op_name,\n\u001b[0m\u001b[0;32m     60\u001b[0m                                         inputs, attrs, num_outputs)\n\u001b[0;32m     61\u001b[0m   \u001b[1;32mexcept\u001b[0m \u001b[0mcore\u001b[0m\u001b[1;33m.\u001b[0m\u001b[0m_NotOkStatusException\u001b[0m \u001b[1;32mas\u001b[0m \u001b[0me\u001b[0m\u001b[1;33m:\u001b[0m\u001b[1;33m\u001b[0m\u001b[1;33m\u001b[0m\u001b[0m\n",
      "\u001b[1;31mResourceExhaustedError\u001b[0m: 2 root error(s) found.\n  (0) Resource exhausted:  OOM when allocating tensor with shape[16,8,5530,5530] and type float on /job:localhost/replica:0/task:0/device:GPU:0 by allocator GPU_0_bfc\n\t [[{{node StatefulPartitionedCall/StatefulPartitionedCall/EncoderTransformer/Transformer/SparseTransformerEncode/Layer_0/SelfAttention/SparseMultiheadAttention/DotProductAttention/MatMul}}]]\nHint: If you want to see a list of allocated tensors when OOM happens, add report_tensor_allocations_upon_oom to RunOptions for current allocation info.\n\n\t [[StatefulPartitionedCall/StatefulPartitionedCall/EncoderTransformer/Transformer/layer_prepostprocess/layer_norm/add_1/_240]]\nHint: If you want to see a list of allocated tensors when OOM happens, add report_tensor_allocations_upon_oom to RunOptions for current allocation info.\n\n  (1) Resource exhausted:  OOM when allocating tensor with shape[16,8,5530,5530] and type float on /job:localhost/replica:0/task:0/device:GPU:0 by allocator GPU_0_bfc\n\t [[{{node StatefulPartitionedCall/StatefulPartitionedCall/EncoderTransformer/Transformer/SparseTransformerEncode/Layer_0/SelfAttention/SparseMultiheadAttention/DotProductAttention/MatMul}}]]\nHint: If you want to see a list of allocated tensors when OOM happens, add report_tensor_allocations_upon_oom to RunOptions for current allocation info.\n\n0 successful operations.\n0 derived errors ignored. [Op:__inference_restored_function_body_70304]\n\nFunction call stack:\nrestored_function_body -> restored_function_body\n"
     ]
    }
   ],
   "source": [
    "# convert text to embeddings in batches (model can handle multiple texts at once)\n",
    "# batch size depends on compute power\n",
    "text_data = df['texts'].values # text data - can be texts col or title col\n",
    "embeddings = [] # empty array to store embeddings as we iterate through docs\n",
    "BATCH_SIZE = 16\n",
    "\n",
    "for start_idx in tqdm.tqdm_notebook(range(232800, NUM_DOCS, BATCH_SIZE)):\n",
    "    end_idx = calcEndIdx(start_idx, BATCH_SIZE, NUM_DOCS)\n",
    "    curr_embeddings = embed(text_data[start_idx:end_idx]).numpy()\n",
    "    embeddings.append(curr_embeddings)\n",
    "    \n",
    "#embeddings = np.concatenate(embeddings) # convert batched arrays to shape (N, Vector Size)"
   ]
  },
  {
   "cell_type": "code",
   "execution_count": null,
   "id": "94b31b5a-2dcb-42fc-853c-ee73ecd21d1e",
   "metadata": {},
   "outputs": [],
   "source": [
    "len(embeddings)"
   ]
  },
  {
   "cell_type": "code",
   "execution_count": null,
   "id": "aac4e5ee-3af7-4fb1-8604-ede5991e911b",
   "metadata": {},
   "outputs": [],
   "source": [
    "np.savez('data/texts_embeddings_until_232800_end_preconcat.npz', a=embeddings)"
   ]
  },
  {
   "cell_type": "code",
   "execution_count": null,
   "id": "e32dbd91-a75c-4526-bd76-2bd10704edb2",
   "metadata": {},
   "outputs": [],
   "source": []
  }
 ],
 "metadata": {
  "kernelspec": {
   "display_name": "Python 3",
   "language": "python",
   "name": "python3"
  },
  "language_info": {
   "codemirror_mode": {
    "name": "ipython",
    "version": 3
   },
   "file_extension": ".py",
   "mimetype": "text/x-python",
   "name": "python",
   "nbconvert_exporter": "python",
   "pygments_lexer": "ipython3",
   "version": "3.8.8"
  }
 },
 "nbformat": 4,
 "nbformat_minor": 5
}
