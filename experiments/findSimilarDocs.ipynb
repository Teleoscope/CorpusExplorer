{
 "cells": [
  {
   "cell_type": "code",
   "execution_count": 1,
   "id": "b09a503b-95f7-41e4-8cfb-e5d61f7f3706",
   "metadata": {},
   "outputs": [],
   "source": [
    "import pickle, tqdm, time, os, tensorflow_hub as hub, numpy as np, pandas as pd\n",
    "pd.set_option('display.max_colwidth', None)"
   ]
  },
  {
   "cell_type": "code",
   "execution_count": 2,
   "id": "f43a69dc-937d-4f8f-89b4-17b324267f7a",
   "metadata": {
    "scrolled": true
   },
   "outputs": [
    {
     "name": "stdout",
     "output_type": "stream",
     "text": [
      "model cached\n"
     ]
    }
   ],
   "source": [
    "# load & cache tensorflow model\n",
    "embed = hub.load(\"C:/Users/AlamjeetSingh/Downloads/temp/universal-sentence-encoder-large_5.tar/universal-sentence-encoder-large_5\")\n",
    "embed(['testing'])\n",
    "print('model cached')"
   ]
  },
  {
   "cell_type": "code",
   "execution_count": null,
   "id": "fd6c45aa-d30b-415b-98be-2d36a4afb7eb",
   "metadata": {},
   "outputs": [],
   "source": [
    "# load data df & embeddings\n",
    "df = pd.read_pickle('data/clean_data.pkl')\n",
    "title_embeddings = np.load('data/title_embeddings.npz')['a']\n",
    "# text_embeddings = np.load('data/texts_embeddings.npz')['a']"
   ]
  },
  {
   "cell_type": "markdown",
   "id": "08fbdde8-1820-4a8b-9183-bd774768ff4b",
   "metadata": {},
   "source": [
    "\n",
    "**STEPS:**\n",
    "1. Query --> query_vector = Q\n",
    "2. Query --> find similar docs, return top N most similar docs\n",
    "3. User Faves Doc A --> Replace Q with Q' = Q + (K)(A - Q) where K is param between 0 & 1 we choose\n",
    "3. User Hides Doc B --> Replace Q' with Q'' = Q' - (K)(A - Q)"
   ]
  },
  {
   "cell_type": "code",
   "execution_count": null,
   "id": "18c7fac7-322a-4d05-9186-598f2e909d04",
   "metadata": {},
   "outputs": [],
   "source": [
    "SENSITIVITY = 0.75\n",
    "EMBED_TYPE = 'titles'"
   ]
  },
  {
   "cell_type": "code",
   "execution_count": null,
   "id": "bfb90500-6b1f-49e1-816f-8e3f6d625be1",
   "metadata": {},
   "outputs": [],
   "source": [
    "def getMostSimilar(query_vector, embeds=title_embeddings, docsdf=df.copy(),filter_bad=True):\n",
    "    scores = query_vector.dot(embeds.T).flatten()\n",
    "    docsdf['similarity_score'] = scores\n",
    "    docsdf = docsdf.sort_values('similarity_score', ascending=False).copy()\n",
    "    return docsdf"
   ]
  },
  {
   "cell_type": "code",
   "execution_count": null,
   "id": "6222edc9-5b5c-4edf-b990-c030ba59e619",
   "metadata": {},
   "outputs": [],
   "source": [
    "def update_embedding(q_vector, feedback_vector, feedback):\n",
    "    # New q vector = (1 - feedback*SENSITIVITY)*(q_vector)  + feedback*SENSITIVITY*(feedback_vector)\n",
    "    # new_q = (1 - feedback*SENSITIVITY)*q_vector + feedback*SENSITIVITY*feedback_vector\n",
    "    new_q = q_vector + feedback*SENSITIVITY*(feedback_vector - q_vector)\n",
    "    return new_q"
   ]
  },
  {
   "cell_type": "code",
   "execution_count": null,
   "id": "241885b7-94d8-40de-b37f-b25b23bd02c2",
   "metadata": {},
   "outputs": [],
   "source": [
    "def giveFeedback(post_id, feedback):\n",
    "    feedback_doc = df[df['ids'] == post_id][EMBED_TYPE].values[0]\n",
    "    feedback_vector = embed([feedback_doc]).numpy()\n",
    "    new_q = update_embedding(Q, feedback_vector, feedback)\n",
    "    return new_q"
   ]
  },
  {
   "cell_type": "code",
   "execution_count": null,
   "id": "23acf34f-bd6b-4e72-9b62-1ecfe4bbe873",
   "metadata": {},
   "outputs": [],
   "source": [
    "QUERY = 'password'\n",
    "Q = embed([QUERY]).numpy()"
   ]
  },
  {
   "cell_type": "code",
   "execution_count": null,
   "id": "2f251b64-59ba-4a15-b778-53a385e19e56",
   "metadata": {
    "scrolled": true,
    "tags": []
   },
   "outputs": [],
   "source": [
    "sim = getMostSimilar(Q)\n",
    "sim[['ids','titles','similarity_score']].head(50)"
   ]
  },
  {
   "cell_type": "code",
   "execution_count": null,
   "id": "05d517d2-f7a4-4a27-a19a-cdcb59726573",
   "metadata": {},
   "outputs": [],
   "source": [
    "Q = giveFeedback(post_id='gxydco', feedback=1)"
   ]
  },
  {
   "cell_type": "code",
   "execution_count": null,
   "id": "1857d33b-6648-412d-9db6-2380d0e9f187",
   "metadata": {},
   "outputs": [],
   "source": [
    "sim = getMostSimilar(Q)\n",
    "sim[['ids','titles','similarity_score']].head(50)"
   ]
  },
  {
   "cell_type": "code",
   "execution_count": null,
   "id": "1592435f-8eb1-47e6-b584-54a3a4c10098",
   "metadata": {},
   "outputs": [],
   "source": [
    "sim['similarity_score'].plot(kind='hist')"
   ]
  },
  {
   "cell_type": "code",
   "execution_count": null,
   "id": "216b81c5-ea53-49ba-bbda-bbedb1bb880b",
   "metadata": {},
   "outputs": [],
   "source": [
    "sim['similarity_score'].describe()"
   ]
  },
  {
   "cell_type": "code",
   "execution_count": null,
   "id": "514ae5dc-5c8c-4106-a17f-3ec8f53412c2",
   "metadata": {},
   "outputs": [],
   "source": []
  }
 ],
 "metadata": {
  "kernelspec": {
   "display_name": "Python 3",
   "language": "python",
   "name": "python3"
  },
  "language_info": {
   "codemirror_mode": {
    "name": "ipython",
    "version": 3
   },
   "file_extension": ".py",
   "mimetype": "text/x-python",
   "name": "python",
   "nbconvert_exporter": "python",
   "pygments_lexer": "ipython3",
   "version": "3.6.13"
  }
 },
 "nbformat": 4,
 "nbformat_minor": 5
}
