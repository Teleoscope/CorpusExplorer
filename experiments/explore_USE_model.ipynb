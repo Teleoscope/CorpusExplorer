{
 "cells": [
  {
   "cell_type": "code",
   "execution_count": 1,
   "id": "25c64a42-615b-40e3-96d3-62d6a7100522",
   "metadata": {},
   "outputs": [],
   "source": [
    "import pickle, tqdm, time, os, tensorflow_hub as hub, numpy as np\n",
    "from pymongo import MongoClient\n",
    "from pprint import pprint"
   ]
  },
  {
   "cell_type": "code",
   "execution_count": 2,
   "id": "fa47f832-9b12-4ab8-ae7e-4441f5152dc4",
   "metadata": {},
   "outputs": [],
   "source": [
    "def getMongoUri(auth_filename='auths/mongo_uri.pkl'):\n",
    "    with open(auth_filename, 'rb') as file:\n",
    "        pwd = pickle.load(file)\n",
    "    return pwd['mongo_uri']\n",
    "\n",
    "def createMongoClient(db='aita'):\n",
    "    mongo_uri = getMongoUri()\n",
    "    client = MongoClient(mongo_uri)\n",
    "    db = client.aita\n",
    "    return client, db"
   ]
  },
  {
   "cell_type": "code",
   "execution_count": 3,
   "id": "4587ecfb-3716-419d-b924-0ea721abe9fc",
   "metadata": {},
   "outputs": [],
   "source": [
    "client, db = createMongoClient()\n",
    "collection = db.posts"
   ]
  },
  {
   "cell_type": "markdown",
   "id": "fc8e4fb8-1154-4a74-9a99-9344ec54a8eb",
   "metadata": {},
   "source": [
    "**End Goal - Given a query input, find most similar document.**\n",
    "\n",
    "Potential Solution 1:\n",
    "\n",
    "1. Input Query --> Embedding\n",
    "2. Embedding X Embedding Matrix = Similarity Scores\n",
    "3. Similarity Scores Sort Descending (keep id column)\n",
    "4. Get Top N actual posts & titles by using ID\n"
   ]
  },
  {
   "cell_type": "code",
   "execution_count": 4,
   "id": "45ccbb22-c079-47ff-9937-96e9933856e7",
   "metadata": {},
   "outputs": [],
   "source": [
    "NUM_DOCS = collection.count_documents({})"
   ]
  },
  {
   "cell_type": "code",
   "execution_count": 5,
   "id": "7a7a96e6-2884-4d88-90a6-756615a7163b",
   "metadata": {},
   "outputs": [
    {
     "name": "stdout",
     "output_type": "stream",
     "text": [
      "model cached\n"
     ]
    }
   ],
   "source": [
    "# load & cache tensorflow model\n",
    "embed = hub.load(\"https://tfhub.dev/google/universal-sentence-encoder-large/5\")\n",
    "embed(['testing'])\n",
    "print('model cached')"
   ]
  },
  {
   "cell_type": "markdown",
   "id": "20d34ea3-3766-4c4a-ab8e-79e5ae1e7f9e",
   "metadata": {},
   "source": [
    "**Converting Each Post From Text To Embedding**\n",
    "- Start off with using the title of the post only"
   ]
  },
  {
   "cell_type": "code",
   "execution_count": 8,
   "id": "45657fb7-1a83-4fd1-9b95-0b61b05d6e74",
   "metadata": {
    "tags": []
   },
   "outputs": [
    {
     "name": "stderr",
     "output_type": "stream",
     "text": [
      "/Users/alamjeetsingh/opt/anaconda3/envs/cs448/lib/python3.6/site-packages/ipykernel_launcher.py:5: TqdmDeprecationWarning: This function will be removed in tqdm==5.0.0\n",
      "Please use `tqdm.notebook.tqdm` instead of `tqdm.tqdm_notebook`\n",
      "  \"\"\"\n"
     ]
    },
    {
     "data": {
      "application/vnd.jupyter.widget-view+json": {
       "model_id": "f65fc3e1f05e41abaa4939e3a91cadeb",
       "version_major": 2,
       "version_minor": 0
      },
      "text/plain": [
       "  0%|          | 0/682771 [00:00<?, ?it/s]"
      ]
     },
     "metadata": {},
     "output_type": "display_data"
    }
   ],
   "source": [
    "# fetch & store titles,id for each post in aita.\n",
    "# titles will be used in batches later for conversion to embeddings & id is needed for lookups\n",
    "# TODO: Optimize - dont need all titles stored locally, embed and load titles in same loop\n",
    "ids, titles = [], []\n",
    "for post in tqdm.tqdm_notebook(collection.find(projection={'title': 1, 'id': 1}), total=NUM_DOCS):\n",
    "    title = post['title']\n",
    "    post_id = post['id']\n",
    "    ids.append(post_id)\n",
    "    titles.append(title)"
   ]
  },
  {
   "cell_type": "code",
   "execution_count": 9,
   "id": "63223ba6-2e1f-4ebc-8bfc-451e174f4777",
   "metadata": {},
   "outputs": [],
   "source": [
    "def calcEndIdx(start_idx, batch_size, ndocs):\n",
    "    end_idx = start_idx + batch_size\n",
    "    end_idx = ndocs if end_idx > ndocs - 1 else end_idx\n",
    "    return end_idx"
   ]
  },
  {
   "cell_type": "code",
   "execution_count": 31,
   "id": "739ebf11-d9e5-4fc6-bc68-b46900f47b7e",
   "metadata": {},
   "outputs": [
    {
     "name": "stderr",
     "output_type": "stream",
     "text": [
      "/Users/alamjeetsingh/opt/anaconda3/envs/cs448/lib/python3.6/site-packages/ipykernel_launcher.py:5: TqdmDeprecationWarning: This function will be removed in tqdm==5.0.0\n",
      "Please use `tqdm.notebook.tqdm` instead of `tqdm.tqdm_notebook`\n",
      "  \"\"\"\n"
     ]
    },
    {
     "data": {
      "application/vnd.jupyter.widget-view+json": {
       "model_id": "ebd38131081a467d82797e1e43330e46",
       "version_major": 2,
       "version_minor": 0
      },
      "text/plain": [
       "  0%|          | 0/683 [00:00<?, ?it/s]"
      ]
     },
     "metadata": {},
     "output_type": "display_data"
    }
   ],
   "source": [
    "# convert text to embeddings in batches (model can handle multiple texts at once)\n",
    "# batch size depends on compute power\n",
    "embeddings = None\n",
    "BATCH_SIZE = 1000\n",
    "for start_idx in tqdm.tqdm_notebook(range(0, NUM_DOCS, BATCH_SIZE)):\n",
    "    end_idx = calcEndIdx(start_idx, BATCH_SIZE, NUM_DOCS)\n",
    "    curr_embeddings = embed(titles[start_idx:end_idx]).numpy()\n",
    "    if embeddings is None:\n",
    "        embeddings = curr_embeddings\n",
    "    else:\n",
    "        embeddings = np.concatenate((embeddings, curr_embeddings))\n",
    "    \n",
    "    if start_idx == 1000:\n",
    "        break"
   ]
  }
 ],
 "metadata": {
  "kernelspec": {
   "display_name": "Python 3",
   "language": "python",
   "name": "python3"
  },
  "language_info": {
   "codemirror_mode": {
    "name": "ipython",
    "version": 3
   },
   "file_extension": ".py",
   "mimetype": "text/x-python",
   "name": "python",
   "nbconvert_exporter": "python",
   "pygments_lexer": "ipython3",
   "version": "3.6.13"
  }
 },
 "nbformat": 4,
 "nbformat_minor": 5
}
