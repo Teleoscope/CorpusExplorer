{
 "cells": [
  {
   "cell_type": "code",
   "execution_count": 1,
   "id": "148c8c8e-6645-41f8-9bbe-0925964ad9d7",
   "metadata": {},
   "outputs": [],
   "source": [
    "import pickle, tqdm, time, os, tensorflow_hub as hub, numpy as np, pandas as pd\n",
    "from pymongo import MongoClient\n",
    "from pprint import pprint"
   ]
  },
  {
   "cell_type": "code",
   "execution_count": 2,
   "id": "424184e6-b561-406e-a91e-46a499d1863d",
   "metadata": {},
   "outputs": [],
   "source": [
    "def getMongoUri(auth_filename='auths/mongo_uri.pkl'):\n",
    "    with open(auth_filename, 'rb') as file:\n",
    "        pwd = pickle.load(file)\n",
    "    return pwd['mongo_uri']\n",
    "\n",
    "def createMongoClient(db='aita'):\n",
    "    mongo_uri = getMongoUri()\n",
    "    client = MongoClient(mongo_uri)\n",
    "    db = client.aita\n",
    "    return client, db"
   ]
  },
  {
   "cell_type": "code",
   "execution_count": 3,
   "id": "55fa64ea-76d0-4f65-827b-1589a29a14fd",
   "metadata": {},
   "outputs": [
    {
     "name": "stdout",
     "output_type": "stream",
     "text": [
      "model cached\n"
     ]
    }
   ],
   "source": [
    "embed = hub.load(\"https://tfhub.dev/google/universal-sentence-encoder/4\")\n",
    "embed(['testing'])\n",
    "print('model cached')"
   ]
  },
  {
   "cell_type": "code",
   "execution_count": 4,
   "id": "e3329e50-6179-4028-859b-db4f355cd69f",
   "metadata": {},
   "outputs": [],
   "source": [
    "client, db = createMongoClient()\n",
    "postsCollection = db.clean.posts\n",
    "NUM_DOCS = postsCollection.count_documents({})"
   ]
  },
  {
   "cell_type": "code",
   "execution_count": null,
   "id": "efc8f256-8b05-441a-8934-25a3f48115e9",
   "metadata": {},
   "outputs": [
    {
     "name": "stderr",
     "output_type": "stream",
     "text": [
      "/Users/alamjeetsingh/opt/anaconda3/envs/cs448/lib/python3.6/site-packages/ipykernel_launcher.py:2: TqdmDeprecationWarning: This function will be removed in tqdm==5.0.0\n",
      "Please use `tqdm.notebook.tqdm` instead of `tqdm.tqdm_notebook`\n",
      "  \n"
     ]
    },
    {
     "data": {
      "application/vnd.jupyter.widget-view+json": {
       "model_id": "94b59b701cb14539a886ba469ada1245",
       "version_major": 2,
       "version_minor": 0
      },
      "text/plain": [
       "  0%|          | 0/490330 [00:00<?, ?it/s]"
      ]
     },
     "metadata": {},
     "output_type": "display_data"
    }
   ],
   "source": [
    "allPosts = []\n",
    "for post in tqdm.tqdm_notebook(postsCollection.find(projection={'_id': 0}), total=NUM_DOCS):\n",
    "    allPosts.append(post)"
   ]
  },
  {
   "cell_type": "code",
   "execution_count": null,
   "id": "241568e1-9807-4297-a30c-a1ca1560b3cb",
   "metadata": {},
   "outputs": [],
   "source": [
    "# calculates end index for a particular iteration for looping through documents in batches\n",
    "def calcEndIdx(start_idx, batch_size, ndocs):\n",
    "    end_idx = start_idx + batch_size\n",
    "    end_idx = ndocs if end_idx > ndocs - 1 else end_idx\n",
    "    return end_idx"
   ]
  },
  {
   "cell_type": "code",
   "execution_count": null,
   "id": "13bba94f-49e6-4fa0-90ba-724d18129f46",
   "metadata": {},
   "outputs": [],
   "source": [
    "selftexts = [x['selftext'] for x in allPosts]"
   ]
  },
  {
   "cell_type": "code",
   "execution_count": null,
   "id": "bcf39331-1837-4ecc-bfad-a565b8e117f1",
   "metadata": {},
   "outputs": [],
   "source": [
    "# convert text to embeddings in batches (model can handle multiple texts at once)\n",
    "# batch size depends on compute power\n",
    "embeddings = [] # empty array to store embeddings as we iterate through docs\n",
    "BATCH_SIZE = 1000\n",
    "\n",
    "for start_idx in tqdm.tqdm_notebook(range(0, NUM_DOCS, BATCH_SIZE)):\n",
    "    end_idx = calcEndIdx(start_idx, BATCH_SIZE, NUM_DOCS)\n",
    "    curr_embeddings = embed(selftexts[start_idx:end_idx]).numpy()\n",
    "    embeddings.append(curr_embeddings)\n",
    "    \n",
    "embeddings = np.concatenate(embeddings) # convert batched arrays to shape (N, Vector Size)"
   ]
  },
  {
   "cell_type": "code",
   "execution_count": null,
   "id": "def50d41-19bf-4307-861f-43873a7507b4",
   "metadata": {},
   "outputs": [],
   "source": [
    "len(embeddings)"
   ]
  },
  {
   "cell_type": "code",
   "execution_count": null,
   "id": "4a355e91-21db-4cae-8841-c1d5678e51d0",
   "metadata": {},
   "outputs": [],
   "source": [
    "embeddings.shape"
   ]
  },
  {
   "cell_type": "code",
   "execution_count": null,
   "id": "15f764d6-2f06-4e47-b915-b34dbaa2452e",
   "metadata": {},
   "outputs": [],
   "source": [
    "for i in range(len(allPosts)):\n",
    "    allPosts[i]['selftextVector'] = embeddings[i].tolist()"
   ]
  },
  {
   "cell_type": "code",
   "execution_count": null,
   "id": "6369eded-f21c-4722-96eb-65d95ddaf5ac",
   "metadata": {},
   "outputs": [],
   "source": [
    "cleanPostsV2 = db.clean.posts.v2\n",
    "cleanPostsV2.insert_many(allPosts)"
   ]
  },
  {
   "cell_type": "code",
   "execution_count": null,
   "id": "0b40e5fa-0b0f-479e-954f-9e58ee70d5ea",
   "metadata": {},
   "outputs": [],
   "source": []
  }
 ],
 "metadata": {
  "kernelspec": {
   "display_name": "Python 3",
   "language": "python",
   "name": "python3"
  },
  "language_info": {
   "codemirror_mode": {
    "name": "ipython",
    "version": 3
   },
   "file_extension": ".py",
   "mimetype": "text/x-python",
   "name": "python",
   "nbconvert_exporter": "python",
   "pygments_lexer": "ipython3",
   "version": "3.8.8"
  }
 },
 "nbformat": 4,
 "nbformat_minor": 5
}
