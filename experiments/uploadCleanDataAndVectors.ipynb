{
 "cells": [
  {
   "cell_type": "code",
   "execution_count": 1,
   "id": "148c8c8e-6645-41f8-9bbe-0925964ad9d7",
   "metadata": {},
   "outputs": [],
   "source": [
    "import pickle, tqdm, time, os, tensorflow_hub as hub, numpy as np, pandas as pd\n",
    "from pymongo import MongoClient\n",
    "from pprint import pprint"
   ]
  },
  {
   "cell_type": "code",
   "execution_count": 2,
   "id": "424184e6-b561-406e-a91e-46a499d1863d",
   "metadata": {},
   "outputs": [],
   "source": [
    "def getMongoUri(auth_filename='auths/mongo_uri.pkl'):\n",
    "    with open(auth_filename, 'rb') as file:\n",
    "        pwd = pickle.load(file)\n",
    "    return pwd['mongo_uri']\n",
    "\n",
    "def createMongoClient(db='aita'):\n",
    "    mongo_uri = getMongoUri()\n",
    "    client = MongoClient(mongo_uri)\n",
    "    db = client.aita\n",
    "    return client, db"
   ]
  },
  {
   "cell_type": "code",
   "execution_count": 3,
   "id": "55fa64ea-76d0-4f65-827b-1589a29a14fd",
   "metadata": {},
   "outputs": [
    {
     "name": "stdout",
     "output_type": "stream",
     "text": [
      "model cached\n"
     ]
    }
   ],
   "source": [
    "embed = hub.load(\"https://tfhub.dev/google/universal-sentence-encoder/4\")\n",
    "embed(['testing'])\n",
    "print('model cached')"
   ]
  },
  {
   "cell_type": "code",
   "execution_count": 4,
   "id": "e3329e50-6179-4028-859b-db4f355cd69f",
   "metadata": {},
   "outputs": [],
   "source": [
    "client, db = createMongoClient()\n",
    "postsCollection = db.posts\n",
    "NUM_DOCS = postsCollection.count_documents({})"
   ]
  },
  {
   "cell_type": "code",
   "execution_count": 5,
   "id": "efc8f256-8b05-441a-8934-25a3f48115e9",
   "metadata": {},
   "outputs": [
    {
     "name": "stderr",
     "output_type": "stream",
     "text": [
      "/Users/alamjeetsingh/opt/anaconda3/envs/cs448/lib/python3.6/site-packages/ipykernel_launcher.py:2: TqdmDeprecationWarning: This function will be removed in tqdm==5.0.0\n",
      "Please use `tqdm.notebook.tqdm` instead of `tqdm.tqdm_notebook`\n",
      "  \n"
     ]
    },
    {
     "data": {
      "application/vnd.jupyter.widget-view+json": {
       "model_id": "dfdf685833b3462fbd1914f45bf21656",
       "version_major": 2,
       "version_minor": 0
      },
      "text/plain": [
       "  0%|          | 0/682771 [00:00<?, ?it/s]"
      ]
     },
     "metadata": {},
     "output_type": "display_data"
    }
   ],
   "source": [
    "allPosts = []\n",
    "for post in tqdm.tqdm_notebook(postsCollection.find(projection={'title': 1, 'id': 1, 'selftext':1}), total=NUM_DOCS):\n",
    "    allPosts.append(post)"
   ]
  },
  {
   "cell_type": "code",
   "execution_count": 6,
   "id": "9aeba955-2eb3-4069-8d1b-b927c69662b6",
   "metadata": {},
   "outputs": [],
   "source": [
    "df = pd.DataFrame(allPosts)"
   ]
  },
  {
   "cell_type": "code",
   "execution_count": 7,
   "id": "dbd01391-8ddc-4a2b-94ba-34a57139f822",
   "metadata": {},
   "outputs": [],
   "source": [
    "df = df.drop('_id', axis=1).copy()"
   ]
  },
  {
   "cell_type": "code",
   "execution_count": 8,
   "id": "28276d85-d80c-4aa6-9885-312d04adfc96",
   "metadata": {},
   "outputs": [
    {
     "data": {
      "text/plain": [
       "id              1\n",
       "selftext    14189\n",
       "title           2\n",
       "dtype: int64"
      ]
     },
     "execution_count": 8,
     "metadata": {},
     "output_type": "execute_result"
    }
   ],
   "source": [
    "df.isna().sum()"
   ]
  },
  {
   "cell_type": "code",
   "execution_count": 9,
   "id": "b968843f-f7aa-4111-b589-f7b43e34e086",
   "metadata": {},
   "outputs": [
    {
     "data": {
      "text/plain": [
       "(682771, 3)"
      ]
     },
     "execution_count": 9,
     "metadata": {},
     "output_type": "execute_result"
    }
   ],
   "source": [
    "df.shape"
   ]
  },
  {
   "cell_type": "code",
   "execution_count": 10,
   "id": "1d5abfdd-0e88-4f19-b533-606d1329954b",
   "metadata": {},
   "outputs": [
    {
     "data": {
      "text/html": [
       "<div>\n",
       "<style scoped>\n",
       "    .dataframe tbody tr th:only-of-type {\n",
       "        vertical-align: middle;\n",
       "    }\n",
       "\n",
       "    .dataframe tbody tr th {\n",
       "        vertical-align: top;\n",
       "    }\n",
       "\n",
       "    .dataframe thead th {\n",
       "        text-align: right;\n",
       "    }\n",
       "</style>\n",
       "<table border=\"1\" class=\"dataframe\">\n",
       "  <thead>\n",
       "    <tr style=\"text-align: right;\">\n",
       "      <th></th>\n",
       "      <th>id</th>\n",
       "      <th>selftext</th>\n",
       "      <th>title</th>\n",
       "    </tr>\n",
       "  </thead>\n",
       "  <tbody>\n",
       "    <tr>\n",
       "      <th>0</th>\n",
       "      <td>j1f7am</td>\n",
       "      <td>I’m a 25 yr old female and my husband is 25. W...</td>\n",
       "      <td>AITA for not talking to my mom and not letting...</td>\n",
       "    </tr>\n",
       "    <tr>\n",
       "      <th>1</th>\n",
       "      <td>j1f71q</td>\n",
       "      <td>This happened last night and I am still proces...</td>\n",
       "      <td>AITA for telling a women I am not interested a...</td>\n",
       "    </tr>\n",
       "    <tr>\n",
       "      <th>2</th>\n",
       "      <td>j1f6tt</td>\n",
       "      <td>I (19 M) have one of my busiest semester this ...</td>\n",
       "      <td>AITA for giving up on a friend who has been di...</td>\n",
       "    </tr>\n",
       "    <tr>\n",
       "      <th>3</th>\n",
       "      <td>j1f6r4</td>\n",
       "      <td>[removed]</td>\n",
       "      <td>Will I be the asshole if I drop a metaphorical...</td>\n",
       "    </tr>\n",
       "    <tr>\n",
       "      <th>4</th>\n",
       "      <td>j1f4so</td>\n",
       "      <td>[removed]</td>\n",
       "      <td>AITA if I only want to have sex with my girlfr...</td>\n",
       "    </tr>\n",
       "  </tbody>\n",
       "</table>\n",
       "</div>"
      ],
      "text/plain": [
       "       id                                           selftext  \\\n",
       "0  j1f7am  I’m a 25 yr old female and my husband is 25. W...   \n",
       "1  j1f71q  This happened last night and I am still proces...   \n",
       "2  j1f6tt  I (19 M) have one of my busiest semester this ...   \n",
       "3  j1f6r4                                          [removed]   \n",
       "4  j1f4so                                          [removed]   \n",
       "\n",
       "                                               title  \n",
       "0  AITA for not talking to my mom and not letting...  \n",
       "1  AITA for telling a women I am not interested a...  \n",
       "2  AITA for giving up on a friend who has been di...  \n",
       "3  Will I be the asshole if I drop a metaphorical...  \n",
       "4  AITA if I only want to have sex with my girlfr...  "
      ]
     },
     "execution_count": 10,
     "metadata": {},
     "output_type": "execute_result"
    }
   ],
   "source": [
    "df.head()"
   ]
  },
  {
   "cell_type": "code",
   "execution_count": 11,
   "id": "7ba6067f-cd6a-4e75-856b-17f52ec56d70",
   "metadata": {},
   "outputs": [],
   "source": [
    "# drop all entries which have a null value in any of id, titles, texts\n",
    "df = df.dropna().copy()\n",
    "df = df.reset_index(drop=True).copy()"
   ]
  },
  {
   "cell_type": "code",
   "execution_count": 12,
   "id": "0910d3d2-0904-412e-a0aa-53875258ced8",
   "metadata": {},
   "outputs": [
    {
     "data": {
      "text/plain": [
       "[removed]                                                                                                                                                                                                                                                                                                                                                                                                                                                                                                                                                                                                                                                                                                                                                                                                                                                                                                                                                                                                                                                                                                                                                                                                                                                                                                                                                                                                                                                                                                                                                                                                                                                                                                                                                                                                                                                                                                                                                                                                                                                                                                                                                                                                                                                                                                                                                                                                                                                                                                                                                                                                                                                                                                                                                                                                                                                                                                                                                                                                                                                                                                                                                                                                                                                                                                                                                                                                                                                                                                                                                                                                                                                                                                                                                                                                                                                                                                                                                                                                                                                                                                                                                                                                                                                                                                                                                                                                                                                                                                                                                                                                                                                                                                                                                                                                                                                                                                                                                                                                                                                                                                                                                                                                                                                                                                                                                                                                       172265\n",
       "[deleted]                                                                                                                                                                                                                                                                                                                                                                                                                                                                                                                                                                                                                                                                                                                                                                                                                                                                                                                                                                                                                                                                                                                                                                                                                                                                                                                                                                                                                                                                                                                                                                                                                                                                                                                                                                                                                                                                                                                                                                                                                                                                                                                                                                                                                                                                                                                                                                                                                                                                                                                                                                                                                                                                                                                                                                                                                                                                                                                                                                                                                                                                                                                                                                                                                                                                                                                                                                                                                                                                                                                                                                                                                                                                                                                                                                                                                                                                                                                                                                                                                                                                                                                                                                                                                                                                                                                                                                                                                                                                                                                                                                                                                                                                                                                                                                                                                                                                                                                                                                                                                                                                                                                                                                                                                                                                                                                                                                                                         5986\n",
       "TLDR: I get paid about $2000 every month to home share with my autistic brother but my parents don’t want him with us full time as they want control. Which I get and support. Should we give them the $2000 we get or should we keep it and use it for bills? \\n\\n\\n My (23F) husband (26M) and I recently started doing a home share program with my autistic brother so he would not lose his funding through the government. Basically we get paid about $2000 a month so that he can keep getting money from the government. Once you lose this money it’s nearly impossible to get back and even though he is okay right now he could need it in the future so we agreed. \\n\\nEdit: I just wanted to explain my relationship to my parents as well to see if that adds perspective. \\n\\nMy mom and I have a strained relationship. I love her so much but we were abused by my moms second husband badly and I was very angry at her for a long time for not leaving the situation. I have a relationship with her now but it’s very basic. We text and sometimes go for walks but still has an odd feeling to it. I was told by a therapist this is normal for child abuse victims as they don’t develop the same love and connection as kids who come from more secure families. I can’t talk to her about anything serious though as she tells my current step dad everything and than he ends up lecturing me about it. I don’t have that level of comfort confiding in her I would love to have. \\n\\nMy step dad. This is a tough relationship for me. On one hand I think he is an awesome guy. My mom loves him. He is hard working and has good morals. He stepped up to the plate with my brother and I am grateful. He has also helped my husband and I in many ways. The bad side to this is I am very afraid of him. Due to the trauma I suffered as a kid I find a lot of men terrifying to talk to. (I was sexually abused as well). My step dad came into our home when I was 16. I think he and my mom started talking when I was 14. I felt very uncomfortable from the beginning. I had not dealt with the fact that I was sexually abused by both my past step dad and my ex boyfriend. He came in with force and took over the dad role very quickly. My mom became subservient to him and basically only does as he says when it comes to dealing with my brother and life in general. I don’t think he means to be this way and I would love to have a good relationship with him but as of now I can’t talk to him. I can’t control my emotions around him as I break down fast. He once called it crocodile tears and that really affected the way I saw him. At first I thought it was me and than I realized it was also him that was the issue. There is no way I’ll probably ever have the confidence to have this talk with him so it’s just awkward and I don’t visit often. \\n\\nAt first it was all good. He came and stayed with us half the month for the first month of this arrangement. We got the money and used it for bills. I felt fine with that. \\n\\nMy parents stopped that as they wanted full control which I 100% understand. I am only 23 and am not ready to deal with my brother full time. I expect one day when they retire if they become unable to take care of him or he is unable to achieve independence I will become responsible which again I am 100% for. I love my brother and I want to help. \\n\\nWe had a conversation recently, before I knew this wasn’t how it was meant to be set up (my brother being with us half the month wasn’t suppose to happen) and we had a talk with my step dad. He seemed very angry as if we were deceiving him for extra money. As much as the money does help, I am also helping them and in my mind I was doing the right thing. It was a very accusatory conversation where I felt I was being talked down to. I felt so bad because I was so worried I’d mess something up and now my parents thought we were doing something wrong because I misunderstood what I was supposed to do. I was told by my mom to call and what to say and it went from there at the beginning. Now they are acting like I’m stealing? I wasn’t happy.\\n\\nNow we are still getting that $2000 a month as it’s direct deposited to me as per the original arrangement made with the program person we did the home share through. The lady on our case knows full well he isn’t actually staying the full month or even half the month anymore but only some weekends (although not lately due to the world wide issue going on). \\n\\nShe mentioned in the meeting we might just figure out what to do as a group with the $2000/month but we didn’t not discuss actually giving them any. This money is money received like through a job for taking on responsibility and not part of the money my brother gets from the government. This is also paid through the government directly to me. \\n\\nMy husband thinks since we made this agreement and my parents have not brought it up that we should just use it for bills and savings. I personally feel weird using it as we are not fully doing what we are getting paid to do. It’s also not our fault this isn’t happening though. \\n\\nShould we give the money to my parents every month? Or should we just keep using it for bills? AITA in this situation?        27\n",
       "So i had pc which i used pretty much daily, I had removed it's parts out of the case so I can clean it.\\n\\nI screwed up and damaged the case only(cut the front panel wires by accident thinking they were useless) after that i used the pc normally but it's parts were dangling a bit but usable my mom saw me more than twice using it so she saw that it was used by me.\\n\\n Anyway cut to few months back my mom was selling old stuff out I told more than three times that they don't sell my pc because i use it(it's 10 years old so they thought they can sell it) they sold it anyway and i was mad but didn't do anything about.\\n\\nMy mother 2 weeks ago gave me her phone(it's one of the new ones) in exchange for not using my study tablet(I used to play with it since i had no phones other than that tablet btw it's given to us by the government so we can take the exams at home) so i agreed to the offer and took it, we come to today when she told me she wants it back and doesn't care about what happens to the tablet so i told her no and brought up when she sold the pc and we argued for a bit about it.\\n\\n\\nSo reddit aita?                                                                                                                                                                                                                                                                                                                                                                                                                                                                                                                                                                                                                                                                                                                                                                                                                                                                                                                                                                                                                                                                                                                                                                                                                                                                                                                                                                                                                                                                                                                                                                                                                                                                                                                                                                                                                                                                                                                                                                                                                                                                                                                                                                                                                                                                                                                                                                                                                                                                                                                                                                                                                                                                                                                                                                                                                                                                                                                                                                                                                                                                                                                                                                                                                                                                                                                                                                                                                                                                                                                                                                                                                                                                                                                                                                                                                                                                                                                                                                                                                                                                                                                                                                                                                                                   22\n",
       "So me and my boyfriend have a beautiful ragdoll rescue cat. He does seem to favour me more but I think that's just because his previous owner who was a male wasn't too nice to him.\\nWhen I woke up today after my night shift my boyfriend told me the cat has pooed and weed on the floor. I said well yeah if his litter tray is not clean he will not use it. I've told him this before, he knows this information.\\nAnyway I dropped him off at work and he told me he 'did that thing where you put their face in the wee so they don't do it again'. Well I absolutely lost it, I was furious that he'd do that, I actually thought he was joking I couldn't believe he was serious. Obviously I know that was ridiculous, I did study animal management in college.\\nSo I shouted at him no wonder he likes me more than you. Obviously I know he was the total asshoke for what he did. But was I wrong for the cheap shot?\\nHe has since apologised and said he'd never do it again he just thought that's what you do to prevent accidents happening again.                                                                                                                                                                                                                                                                                                                                                                                                                                                                                                                                                                                                                                                                                                                                                                                                                                                                                                                                                                                                                                                                                                                                                                                                                                                                                                                                                                                                                                                                                                                                                                                                                                                                                                                                                                                                                                                                                                                                                                                                                                                                                                                                                                                                                                                                                                                                                                                                                                                                                                                                                                                                                                                                                                                                                                                                                                                                                                                                                                                                                                                                                                                                                                                                                                                                                                                                                                                                                                                                                                                                                                                                                                                                                                                                                                                                                                                                                                                                                                                                                                                                                                                                                                                                                                                                                                                                             19\n",
       "Name: selftext, dtype: int64"
      ]
     },
     "execution_count": 12,
     "metadata": {},
     "output_type": "execute_result"
    }
   ],
   "source": [
    "df['selftext'].value_counts().head()"
   ]
  },
  {
   "cell_type": "code",
   "execution_count": 13,
   "id": "695f57db-fe6b-49fb-81fe-12485fe67c80",
   "metadata": {},
   "outputs": [
    {
     "data": {
      "text/plain": [
       "AITA                                                                      871\n",
       "AITA?                                                                     283\n",
       "Am I the asshole?                                                         100\n",
       "WIBTA                                                                      88\n",
       "AIs from AI Dungeon 2 to sexy to funny and one based wholly on Reddit!     79\n",
       "Name: title, dtype: int64"
      ]
     },
     "execution_count": 13,
     "metadata": {},
     "output_type": "execute_result"
    }
   ],
   "source": [
    "df['title'].value_counts().head()"
   ]
  },
  {
   "cell_type": "code",
   "execution_count": 14,
   "id": "a6565256-d2eb-4a68-ac4f-dd7a4e3c1722",
   "metadata": {},
   "outputs": [],
   "source": [
    "#remove entries that have deleted or removed text\n",
    "df = df[(df['selftext'] != '[removed]') & (df['selftext'] != '[deleted]')].copy()"
   ]
  },
  {
   "cell_type": "code",
   "execution_count": 15,
   "id": "958e6356-ea76-4c2b-95e6-cc20418924b2",
   "metadata": {},
   "outputs": [
    {
     "data": {
      "text/plain": [
       "(490330, 3)"
      ]
     },
     "execution_count": 15,
     "metadata": {},
     "output_type": "execute_result"
    }
   ],
   "source": [
    "df.shape"
   ]
  },
  {
   "cell_type": "code",
   "execution_count": 16,
   "id": "42923597-6a88-4e09-84fe-a2e5b67f0401",
   "metadata": {},
   "outputs": [],
   "source": [
    "NUM_DOCS = len(df)"
   ]
  },
  {
   "cell_type": "code",
   "execution_count": 17,
   "id": "705fbe57-051d-415f-8c45-b401716e80d2",
   "metadata": {},
   "outputs": [],
   "source": [
    "titles = df['title'].values"
   ]
  },
  {
   "cell_type": "code",
   "execution_count": 18,
   "id": "241568e1-9807-4297-a30c-a1ca1560b3cb",
   "metadata": {},
   "outputs": [],
   "source": [
    "# calculates end index for a particular iteration for looping through documents in batches\n",
    "def calcEndIdx(start_idx, batch_size, ndocs):\n",
    "    end_idx = start_idx + batch_size\n",
    "    end_idx = ndocs if end_idx > ndocs - 1 else end_idx\n",
    "    return end_idx"
   ]
  },
  {
   "cell_type": "code",
   "execution_count": 23,
   "id": "bcf39331-1837-4ecc-bfad-a565b8e117f1",
   "metadata": {},
   "outputs": [
    {
     "name": "stderr",
     "output_type": "stream",
     "text": [
      "/Users/alamjeetsingh/opt/anaconda3/envs/cs448/lib/python3.6/site-packages/ipykernel_launcher.py:6: TqdmDeprecationWarning: This function will be removed in tqdm==5.0.0\n",
      "Please use `tqdm.notebook.tqdm` instead of `tqdm.tqdm_notebook`\n",
      "  \n"
     ]
    },
    {
     "data": {
      "application/vnd.jupyter.widget-view+json": {
       "model_id": "b50e44f81fbe44308b9ab65460d15897",
       "version_major": 2,
       "version_minor": 0
      },
      "text/plain": [
       "  0%|          | 0/491 [00:00<?, ?it/s]"
      ]
     },
     "metadata": {},
     "output_type": "display_data"
    }
   ],
   "source": [
    "# convert text to embeddings in batches (model can handle multiple texts at once)\n",
    "# batch size depends on compute power\n",
    "embeddings = [] # empty array to store embeddings as we iterate through docs\n",
    "BATCH_SIZE = 1000\n",
    "\n",
    "for start_idx in tqdm.tqdm_notebook(range(0, NUM_DOCS, BATCH_SIZE)):\n",
    "    end_idx = calcEndIdx(start_idx, BATCH_SIZE, NUM_DOCS)\n",
    "    curr_embeddings = embed(titles[start_idx:end_idx]).numpy()\n",
    "    embeddings.append(curr_embeddings)\n",
    "    \n",
    "embeddings = np.concatenate(embeddings) # convert batched arrays to shape (N, Vector Size)"
   ]
  },
  {
   "cell_type": "code",
   "execution_count": 32,
   "id": "2a476103-8d59-4310-874e-a7eda05c898a",
   "metadata": {},
   "outputs": [],
   "source": [
    "clean_records = df.to_dict(orient='records')"
   ]
  },
  {
   "cell_type": "code",
   "execution_count": 33,
   "id": "4c9cc2a4-880c-40ba-9f3e-17bc5ed626cc",
   "metadata": {},
   "outputs": [
    {
     "name": "stderr",
     "output_type": "stream",
     "text": [
      "/Users/alamjeetsingh/opt/anaconda3/envs/cs448/lib/python3.6/site-packages/ipykernel_launcher.py:1: TqdmDeprecationWarning: This function will be removed in tqdm==5.0.0\n",
      "Please use `tqdm.notebook.tqdm` instead of `tqdm.tqdm_notebook`\n",
      "  \"\"\"Entry point for launching an IPython kernel.\n"
     ]
    },
    {
     "data": {
      "application/vnd.jupyter.widget-view+json": {
       "model_id": "14b177b0b16b4ee982748e84a6a17cb9",
       "version_major": 2,
       "version_minor": 0
      },
      "text/plain": [
       "  0%|          | 0/490330 [00:00<?, ?it/s]"
      ]
     },
     "metadata": {},
     "output_type": "display_data"
    }
   ],
   "source": [
    "for i,record in tqdm.tqdm_notebook(enumerate(clean_records), total=NUM_DOCS):\n",
    "    record['vector'] = embeddings[i].tolist()"
   ]
  },
  {
   "cell_type": "code",
   "execution_count": 34,
   "id": "a1d0e83e-8df7-440a-b8ff-4356506e9b33",
   "metadata": {},
   "outputs": [],
   "source": [
    "cleanPostsCollection = db.clean.posts"
   ]
  },
  {
   "cell_type": "code",
   "execution_count": 35,
   "id": "14939c03-2ddd-4a1d-81a8-3ebf4fdabda5",
   "metadata": {},
   "outputs": [
    {
     "data": {
      "text/plain": [
       "<pymongo.results.InsertManyResult at 0x7ff6be26ac08>"
      ]
     },
     "execution_count": 35,
     "metadata": {},
     "output_type": "execute_result"
    }
   ],
   "source": [
    "cleanPostsCollection.insert_many(clean_records)"
   ]
  },
  {
   "cell_type": "code",
   "execution_count": null,
   "id": "bbae18e4-379d-48b9-ad29-5f747a58fc0f",
   "metadata": {},
   "outputs": [],
   "source": []
  }
 ],
 "metadata": {
  "kernelspec": {
   "display_name": "Python 3",
   "language": "python",
   "name": "python3"
  },
  "language_info": {
   "codemirror_mode": {
    "name": "ipython",
    "version": 3
   },
   "file_extension": ".py",
   "mimetype": "text/x-python",
   "name": "python",
   "nbconvert_exporter": "python",
   "pygments_lexer": "ipython3",
   "version": "3.6.13"
  }
 },
 "nbformat": 4,
 "nbformat_minor": 5
}
