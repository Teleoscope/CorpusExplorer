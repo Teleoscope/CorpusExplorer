{
 "cells": [
  {
   "cell_type": "code",
   "execution_count": 33,
   "id": "18558595-55c9-4ffa-bef7-1ac388b91294",
   "metadata": {},
   "outputs": [],
   "source": [
    "import pickle, tqdm, time, os, numpy as np, pandas as pd\n",
    "from pymongo import MongoClient\n",
    "from pprint import pprint\n",
    "pd.set_option('max_colwidth', 100)\n",
    "import tensorflow_hub as hub\n",
    "import matplotlib.pyplot as plt"
   ]
  },
  {
   "cell_type": "code",
   "execution_count": 2,
   "id": "8cc0cd11-6356-4824-8cd8-d312948bec2c",
   "metadata": {},
   "outputs": [],
   "source": [
    "def getMongoUri(auth_filename='../auths/mongo_uri.pkl'):\n",
    "    with open(auth_filename, 'rb') as file:\n",
    "        pwd = pickle.load(file)\n",
    "    return pwd['mongo_uri']\n",
    "\n",
    "def createMongoClient(db='aita'):\n",
    "    mongo_uri = getMongoUri()\n",
    "    client = MongoClient(mongo_uri)\n",
    "    db = client.aita\n",
    "    return client, db"
   ]
  },
  {
   "cell_type": "code",
   "execution_count": 3,
   "id": "e9da3fd4-33f5-48a1-bcde-c7f2223b10de",
   "metadata": {},
   "outputs": [],
   "source": [
    "def moveVector(sourceVector, destinationVector, direction, magnitude = None):\n",
    "    magnitude = magnitude if magnitude is not None else 0.5\n",
    "    new_q = sourceVector + direction*magnitude*(destinationVector - sourceVector)\n",
    "    new_q = new_q / np.linalg.norm(new_q)\n",
    "    return new_q"
   ]
  },
  {
   "cell_type": "code",
   "execution_count": 4,
   "id": "de20dcbe-0602-4eae-a726-76815d6ec6b5",
   "metadata": {},
   "outputs": [
    {
     "name": "stdout",
     "output_type": "stream",
     "text": [
      "It took 6.354276895523071 seconds to load and cache the model into memory\n"
     ]
    }
   ],
   "source": [
    "client, db = createMongoClient()\n",
    "start = time.time()\n",
    "model = hub.load(\"https://tfhub.dev/google/universal-sentence-encoder/4\")\n",
    "model(['testing caching'])\n",
    "end = time.time()\n",
    "delta = (end-start)\n",
    "print(\"It took {} seconds to load and cache the model into memory\".format(delta))"
   ]
  },
  {
   "cell_type": "code",
   "execution_count": 5,
   "id": "aad1f733-0c20-4821-8687-7e745567deda",
   "metadata": {},
   "outputs": [],
   "source": [
    "userInput = \"password\"\n",
    "textSearchQuery = {\"$text\": {\"$search\": userInput}}"
   ]
  },
  {
   "cell_type": "code",
   "execution_count": 6,
   "id": "0e529425-dd0d-4ab6-a68b-5caac7a8e07a",
   "metadata": {},
   "outputs": [
    {
     "name": "stdout",
     "output_type": "stream",
     "text": [
      "Total documents found: 2303\n"
     ]
    }
   ],
   "source": [
    "projection = {\"selftextVector\":1, 'selftext':1, 'title':1}\n",
    "count = db.clean.posts.v2.count_documents(textSearchQuery)\n",
    "cursor = db.clean.posts.v2.find(textSearchQuery, projection = projection)\n",
    "print(\"Total documents found: {}\".format(count))"
   ]
  },
  {
   "cell_type": "code",
   "execution_count": 7,
   "id": "85601299-a60a-41b1-8ac5-5a4dd6ff9f52",
   "metadata": {},
   "outputs": [
    {
     "name": "stderr",
     "output_type": "stream",
     "text": [
      "/Users/alamjeetsingh/opt/anaconda3/envs/cs448/lib/python3.6/site-packages/ipykernel_launcher.py:7: TqdmDeprecationWarning: This function will be removed in tqdm==5.0.0\n",
      "Please use `tqdm.notebook.tqdm` instead of `tqdm.tqdm_notebook`\n",
      "  import sys\n"
     ]
    },
    {
     "data": {
      "application/vnd.jupyter.widget-view+json": {
       "model_id": "92b7a35ec1d44f929b1be613282d6355",
       "version_major": 2,
       "version_minor": 0
      },
      "text/plain": [
       "  0%|          | 0/2303 [00:00<?, ?it/s]"
      ]
     },
     "metadata": {},
     "output_type": "display_data"
    }
   ],
   "source": [
    "'''\n",
    "Method 1: \n",
    "- Calculate average vector of all returned docs vectors\n",
    "- Use the avg vector as the init vector\n",
    "'''\n",
    "avgVector = None\n",
    "for c in tqdm.tqdm_notebook(cursor, total=count):\n",
    "    currTextVector = np.array(c['selftextVector'])\n",
    "    if avgVector is None:\n",
    "        avgVector = currTextVector\n",
    "    else:\n",
    "        avgVector += currTextVector\n",
    "avgVector /= count\n",
    "avgVector = avgVector / np.linalg.norm(avgVector)"
   ]
  },
  {
   "cell_type": "code",
   "execution_count": 8,
   "id": "e00ee869-1991-4bf5-baf4-972e99f08471",
   "metadata": {},
   "outputs": [],
   "source": [
    "'''\n",
    "Method 2:\n",
    "- Convert user query input into its own vector\n",
    "- Use that as init vector\n",
    "'''\n",
    "\n",
    "passwordVector = model([userInput]).numpy()[0]"
   ]
  },
  {
   "cell_type": "markdown",
   "id": "02459b9b-1943-4299-afde-e72047a69d34",
   "metadata": {},
   "source": [
    "Assume the user says they want to find similar docs to the post below"
   ]
  },
  {
   "cell_type": "code",
   "execution_count": 15,
   "id": "a54fa2a5-28f8-4943-890e-6d0caef197c9",
   "metadata": {},
   "outputs": [],
   "source": [
    "cursor = db.clean.posts.v2.find(textSearchQuery, projection = projection, limit=1)\n",
    "feedbackPost = list(cursor)[0]"
   ]
  },
  {
   "cell_type": "code",
   "execution_count": 16,
   "id": "0bb40582-e8d5-4c5f-94fe-65fe867e309c",
   "metadata": {},
   "outputs": [
    {
     "data": {
      "text/plain": [
       "\"I (27f) have 3 siblings (28m, 34f, 38m). My parents have used the same crappy password for the last 20years. Example, Password123. (It's worse then that)   \\n\\nMy brothers and I share a Netflix service with my parents. I've honestly never thought to much about it. Anyway, my parents Nexflix account was stolen, presumably because of their crappy password. They were able to get the account fixed, and their new password is Password4321(Not actual password, duh). Half joking them their password is still weak sauce. My sister goes into this huge rant how I'm not the one to pay for Netflix, and I have no say over their Netflix password. It ends with me basically telling her that I rarely use their Netflix, and I didn't want their account fucked up again. She replied with an eyeroll emoji 🙄. AITA for telling my parents their password sucks?\""
      ]
     },
     "execution_count": 16,
     "metadata": {},
     "output_type": "execute_result"
    }
   ],
   "source": [
    "feedbackPost['selftext']"
   ]
  },
  {
   "cell_type": "code",
   "execution_count": 17,
   "id": "de615736-beab-4c23-911e-5089eb052e86",
   "metadata": {},
   "outputs": [
    {
     "data": {
      "text/plain": [
       "'For telling my parents their password sucks..'"
      ]
     },
     "execution_count": 17,
     "metadata": {},
     "output_type": "execute_result"
    }
   ],
   "source": [
    "feedbackPost['title']"
   ]
  },
  {
   "cell_type": "code",
   "execution_count": 18,
   "id": "34220857-bfd0-4fe6-9355-20ddcc12185d",
   "metadata": {},
   "outputs": [],
   "source": [
    "# move towards the feedback doc"
   ]
  },
  {
   "cell_type": "code",
   "execution_count": 19,
   "id": "6a559ed0-5aed-45cd-b7e1-245fa4502632",
   "metadata": {},
   "outputs": [],
   "source": [
    "avgVector = moveVector(avgVector, np.array(feedbackPost['selftextVector']), 1)"
   ]
  },
  {
   "cell_type": "code",
   "execution_count": 20,
   "id": "315c0075-c547-460c-9e5b-5cff89f0318b",
   "metadata": {},
   "outputs": [],
   "source": [
    "passwordVector = moveVector(passwordVector, np.array(feedbackPost['selftextVector']), 1)"
   ]
  },
  {
   "cell_type": "markdown",
   "id": "a2fdc2fb-f0c2-4dd9-8468-7ac100e0b788",
   "metadata": {},
   "source": [
    "Comparing the Top Most Similar Documents found in full corpus by using avgVector vs password Vector"
   ]
  },
  {
   "cell_type": "code",
   "execution_count": 21,
   "id": "2aa657a2-27ea-4939-85e8-41f1249b20a0",
   "metadata": {},
   "outputs": [
    {
     "name": "stderr",
     "output_type": "stream",
     "text": [
      "/Users/alamjeetsingh/opt/anaconda3/envs/cs448/lib/python3.6/site-packages/ipykernel_launcher.py:6: TqdmDeprecationWarning: This function will be removed in tqdm==5.0.0\n",
      "Please use `tqdm.notebook.tqdm` instead of `tqdm.tqdm_notebook`\n",
      "  \n"
     ]
    },
    {
     "data": {
      "application/vnd.jupyter.widget-view+json": {
       "model_id": "434cff2ef6a447d2bd7000b9a1f70835",
       "version_major": 2,
       "version_minor": 0
      },
      "text/plain": [
       "  0%|          | 0/490330 [00:00<?, ?it/s]"
      ]
     },
     "metadata": {},
     "output_type": "display_data"
    }
   ],
   "source": [
    "projection = {\"selftextVector\":1, \"id\":1, \"title\":1, \"selftext\":1}\n",
    "count = db.clean.posts.v2.count_documents({})\n",
    "cursor = db.clean.posts.v2.find({}, projection = projection)\n",
    "avgVecResults = []\n",
    "passwordVecResults = []\n",
    "for c in tqdm.tqdm_notebook(cursor, total=count):\n",
    "    currTextVector = np.array(c['selftextVector'])\n",
    "    avgVecScore = avgVector.dot(currTextVector)\n",
    "    passwordVecScore = passwordVector.dot(currTextVector)\n",
    "    \n",
    "    avgVecResults.append((avgVecScore, c['id'], c['title'], c['selftext']))\n",
    "    passwordVecResults.append((passwordVecScore, c['id'], c['title'], c['selftext']))"
   ]
  },
  {
   "cell_type": "code",
   "execution_count": 22,
   "id": "dc2eae1f-7eaa-4d56-afd3-4ac26f3f7a6e",
   "metadata": {},
   "outputs": [],
   "source": [
    "avgVecSorted = sorted(avgVecResults, key=lambda x:x[0], reverse=True)\n",
    "passwordVecSorted = sorted(passwordVecResults, key=lambda x:x[0], reverse=True)"
   ]
  },
  {
   "cell_type": "code",
   "execution_count": 23,
   "id": "c332601d-2e62-4029-b92d-8398287782dd",
   "metadata": {},
   "outputs": [],
   "source": [
    "avgdf = pd.DataFrame(avgVecSorted, columns=['Similarity Score', 'ID', 'Title', 'Text'])\n",
    "pwddf = pd.DataFrame(passwordVecSorted, columns=['Similarity Score', 'ID', 'Title', 'Text'])"
   ]
  },
  {
   "cell_type": "code",
   "execution_count": 24,
   "id": "ddf76fb2-0f35-4c05-b689-b39837e7105a",
   "metadata": {},
   "outputs": [
    {
     "data": {
      "text/html": [
       "<div>\n",
       "<style scoped>\n",
       "    .dataframe tbody tr th:only-of-type {\n",
       "        vertical-align: middle;\n",
       "    }\n",
       "\n",
       "    .dataframe tbody tr th {\n",
       "        vertical-align: top;\n",
       "    }\n",
       "\n",
       "    .dataframe thead th {\n",
       "        text-align: right;\n",
       "    }\n",
       "</style>\n",
       "<table border=\"1\" class=\"dataframe\">\n",
       "  <thead>\n",
       "    <tr style=\"text-align: right;\">\n",
       "      <th></th>\n",
       "      <th>Similarity Score</th>\n",
       "      <th>ID</th>\n",
       "      <th>Title</th>\n",
       "      <th>Text</th>\n",
       "    </tr>\n",
       "  </thead>\n",
       "  <tbody>\n",
       "    <tr>\n",
       "      <th>0</th>\n",
       "      <td>0.915580</td>\n",
       "      <td>ex19jl</td>\n",
       "      <td>AITA For tell my parents their password is weaksauce..</td>\n",
       "      <td>I (27f) have 3 siblings (28m, 34f, 38m). My parents have used the same crappy password for the l...</td>\n",
       "    </tr>\n",
       "    <tr>\n",
       "      <th>1</th>\n",
       "      <td>0.909472</td>\n",
       "      <td>ex0ut5</td>\n",
       "      <td>For telling my parents their password sucks..</td>\n",
       "      <td>I (27f) have 3 siblings (28m, 34f, 38m). My parents have used the same crappy password for the l...</td>\n",
       "    </tr>\n",
       "    <tr>\n",
       "      <th>2</th>\n",
       "      <td>0.830794</td>\n",
       "      <td>fzuf7q</td>\n",
       "      <td>AITA for blocking my sister's access to Netflix</td>\n",
       "      <td>A bit of context. In my house I pay for Netflix and my younger sister chips in for the second sc...</td>\n",
       "    </tr>\n",
       "    <tr>\n",
       "      <th>3</th>\n",
       "      <td>0.818386</td>\n",
       "      <td>hbqteu</td>\n",
       "      <td>AITA for adding my sister to a shared Netflix account without consulting my gf?</td>\n",
       "      <td>So my family is going through a hard time. My mother has advanced Alzheimer’s and my sister is u...</td>\n",
       "    </tr>\n",
       "    <tr>\n",
       "      <th>4</th>\n",
       "      <td>0.817205</td>\n",
       "      <td>c7u0xe</td>\n",
       "      <td>AITA for changing my password so my sister doesn't have access to my account?</td>\n",
       "      <td>About a year ago my sister and I had a very large falling out. It basically ended with my sister...</td>\n",
       "    </tr>\n",
       "    <tr>\n",
       "      <th>5</th>\n",
       "      <td>0.816461</td>\n",
       "      <td>d4nabx</td>\n",
       "      <td>AITA For being pissed at my girlfriend for giving my Netflix email and password to her family wi...</td>\n",
       "      <td>(Financially speaking, it’s not really that big a deal for me since I have to pay the same amoun...</td>\n",
       "    </tr>\n",
       "    <tr>\n",
       "      <th>6</th>\n",
       "      <td>0.813844</td>\n",
       "      <td>dl57zx</td>\n",
       "      <td>AITA for denying my brother's ex in the Dominican Republic, who I never met, access to the Netfl...</td>\n",
       "      <td>I (32/F) have two younger brothers (30 and 26) and since I have a stable career and more disposa...</td>\n",
       "    </tr>\n",
       "    <tr>\n",
       "      <th>7</th>\n",
       "      <td>0.808525</td>\n",
       "      <td>ia4w5v</td>\n",
       "      <td>AITA for changing the Netflix password on my Boyfriend's Mom?</td>\n",
       "      <td>TL;DR Boyfriend’s Mom was hogging my Netflix account that I share with my family. After I asked ...</td>\n",
       "    </tr>\n",
       "    <tr>\n",
       "      <th>8</th>\n",
       "      <td>0.801051</td>\n",
       "      <td>iabzh3</td>\n",
       "      <td>AITA for kicking my siblings off of my Netflix and Disney+?</td>\n",
       "      <td>A few months ago my siblings stopped talking to me for no apparent reason- there was no argument...</td>\n",
       "    </tr>\n",
       "    <tr>\n",
       "      <th>9</th>\n",
       "      <td>0.800498</td>\n",
       "      <td>ic8hpd</td>\n",
       "      <td>WIBTA if I kicked my girlfriend off my Hulu and Disney+ accounts?</td>\n",
       "      <td>First post, please deal with formating. Also sorry if this is obvious, but I have anxiety and ne...</td>\n",
       "    </tr>\n",
       "  </tbody>\n",
       "</table>\n",
       "</div>"
      ],
      "text/plain": [
       "   Similarity Score      ID  \\\n",
       "0          0.915580  ex19jl   \n",
       "1          0.909472  ex0ut5   \n",
       "2          0.830794  fzuf7q   \n",
       "3          0.818386  hbqteu   \n",
       "4          0.817205  c7u0xe   \n",
       "5          0.816461  d4nabx   \n",
       "6          0.813844  dl57zx   \n",
       "7          0.808525  ia4w5v   \n",
       "8          0.801051  iabzh3   \n",
       "9          0.800498  ic8hpd   \n",
       "\n",
       "                                                                                                 Title  \\\n",
       "0                                               AITA For tell my parents their password is weaksauce..   \n",
       "1                                                        For telling my parents their password sucks..   \n",
       "2                                                      AITA for blocking my sister's access to Netflix   \n",
       "3                      AITA for adding my sister to a shared Netflix account without consulting my gf?   \n",
       "4                        AITA for changing my password so my sister doesn't have access to my account?   \n",
       "5  AITA For being pissed at my girlfriend for giving my Netflix email and password to her family wi...   \n",
       "6  AITA for denying my brother's ex in the Dominican Republic, who I never met, access to the Netfl...   \n",
       "7                                        AITA for changing the Netflix password on my Boyfriend's Mom?   \n",
       "8                                          AITA for kicking my siblings off of my Netflix and Disney+?   \n",
       "9                                    WIBTA if I kicked my girlfriend off my Hulu and Disney+ accounts?   \n",
       "\n",
       "                                                                                                  Text  \n",
       "0  I (27f) have 3 siblings (28m, 34f, 38m). My parents have used the same crappy password for the l...  \n",
       "1  I (27f) have 3 siblings (28m, 34f, 38m). My parents have used the same crappy password for the l...  \n",
       "2  A bit of context. In my house I pay for Netflix and my younger sister chips in for the second sc...  \n",
       "3  So my family is going through a hard time. My mother has advanced Alzheimer’s and my sister is u...  \n",
       "4  About a year ago my sister and I had a very large falling out. It basically ended with my sister...  \n",
       "5  (Financially speaking, it’s not really that big a deal for me since I have to pay the same amoun...  \n",
       "6  I (32/F) have two younger brothers (30 and 26) and since I have a stable career and more disposa...  \n",
       "7  TL;DR Boyfriend’s Mom was hogging my Netflix account that I share with my family. After I asked ...  \n",
       "8  A few months ago my siblings stopped talking to me for no apparent reason- there was no argument...  \n",
       "9  First post, please deal with formating. Also sorry if this is obvious, but I have anxiety and ne...  "
      ]
     },
     "execution_count": 24,
     "metadata": {},
     "output_type": "execute_result"
    }
   ],
   "source": [
    "avgdf.head(10) # average method"
   ]
  },
  {
   "cell_type": "code",
   "execution_count": 25,
   "id": "8317280c-c4d3-48c5-a2cb-2671d32e2100",
   "metadata": {},
   "outputs": [
    {
     "data": {
      "text/html": [
       "<div>\n",
       "<style scoped>\n",
       "    .dataframe tbody tr th:only-of-type {\n",
       "        vertical-align: middle;\n",
       "    }\n",
       "\n",
       "    .dataframe tbody tr th {\n",
       "        vertical-align: top;\n",
       "    }\n",
       "\n",
       "    .dataframe thead th {\n",
       "        text-align: right;\n",
       "    }\n",
       "</style>\n",
       "<table border=\"1\" class=\"dataframe\">\n",
       "  <thead>\n",
       "    <tr style=\"text-align: right;\">\n",
       "      <th></th>\n",
       "      <th>Similarity Score</th>\n",
       "      <th>ID</th>\n",
       "      <th>Title</th>\n",
       "      <th>Text</th>\n",
       "    </tr>\n",
       "  </thead>\n",
       "  <tbody>\n",
       "    <tr>\n",
       "      <th>0</th>\n",
       "      <td>0.822199</td>\n",
       "      <td>ex0ut5</td>\n",
       "      <td>For telling my parents their password sucks..</td>\n",
       "      <td>I (27f) have 3 siblings (28m, 34f, 38m). My parents have used the same crappy password for the l...</td>\n",
       "    </tr>\n",
       "    <tr>\n",
       "      <th>1</th>\n",
       "      <td>0.799815</td>\n",
       "      <td>ex19jl</td>\n",
       "      <td>AITA For tell my parents their password is weaksauce..</td>\n",
       "      <td>I (27f) have 3 siblings (28m, 34f, 38m). My parents have used the same crappy password for the l...</td>\n",
       "    </tr>\n",
       "    <tr>\n",
       "      <th>2</th>\n",
       "      <td>0.650136</td>\n",
       "      <td>e5sgwo</td>\n",
       "      <td>AITA for getting pissed that my fiancé gave our personal password out to a stranger?</td>\n",
       "      <td>For context the password was to our DirectTV account to one of his coworkers that I do not know,...</td>\n",
       "    </tr>\n",
       "    <tr>\n",
       "      <th>3</th>\n",
       "      <td>0.646860</td>\n",
       "      <td>8aamwf</td>\n",
       "      <td>AITA: For changing the Netflix password</td>\n",
       "      <td>So for the longest time I have been sharing my Netflix account with my family. It’s my two cousi...</td>\n",
       "    </tr>\n",
       "    <tr>\n",
       "      <th>4</th>\n",
       "      <td>0.614610</td>\n",
       "      <td>78itcz</td>\n",
       "      <td>[WIBTA] Would I be the asshole if I cut my Dad off of Netflix?</td>\n",
       "      <td>About four of five years ago, my father retired to another state and was trying to cut back on b...</td>\n",
       "    </tr>\n",
       "    <tr>\n",
       "      <th>5</th>\n",
       "      <td>0.614434</td>\n",
       "      <td>catqdl</td>\n",
       "      <td>AITA for calling out a family member for saying my former password outloud?</td>\n",
       "      <td>I used to play video games with my brother/cousin and would share accounts long time ago. \\n\\nJu...</td>\n",
       "    </tr>\n",
       "    <tr>\n",
       "      <th>6</th>\n",
       "      <td>0.607890</td>\n",
       "      <td>iabzh3</td>\n",
       "      <td>AITA for kicking my siblings off of my Netflix and Disney+?</td>\n",
       "      <td>A few months ago my siblings stopped talking to me for no apparent reason- there was no argument...</td>\n",
       "    </tr>\n",
       "    <tr>\n",
       "      <th>7</th>\n",
       "      <td>0.606722</td>\n",
       "      <td>dbn4lt</td>\n",
       "      <td>AITA changing the Netflix password?</td>\n",
       "      <td>https://m.imgur.com/gallery/QjWKfmD\\n\\nI had to change the Netflix password because no one knew ...</td>\n",
       "    </tr>\n",
       "    <tr>\n",
       "      <th>8</th>\n",
       "      <td>0.600590</td>\n",
       "      <td>cksvnm</td>\n",
       "      <td>AITA for not wanting to give my password to my mom?</td>\n",
       "      <td>To start off, it probably noteworthy that I am 18 years old. This would obviously be a different...</td>\n",
       "    </tr>\n",
       "    <tr>\n",
       "      <th>9</th>\n",
       "      <td>0.594947</td>\n",
       "      <td>ebwr1x</td>\n",
       "      <td>AITA because I refuse to give my in-laws the passwords to my streaming media accounts?</td>\n",
       "      <td>Apparently I’m an asshole because I refuse to give my Netflix and other streaming media password...</td>\n",
       "    </tr>\n",
       "  </tbody>\n",
       "</table>\n",
       "</div>"
      ],
      "text/plain": [
       "   Similarity Score      ID  \\\n",
       "0          0.822199  ex0ut5   \n",
       "1          0.799815  ex19jl   \n",
       "2          0.650136  e5sgwo   \n",
       "3          0.646860  8aamwf   \n",
       "4          0.614610  78itcz   \n",
       "5          0.614434  catqdl   \n",
       "6          0.607890  iabzh3   \n",
       "7          0.606722  dbn4lt   \n",
       "8          0.600590  cksvnm   \n",
       "9          0.594947  ebwr1x   \n",
       "\n",
       "                                                                                    Title  \\\n",
       "0                                           For telling my parents their password sucks..   \n",
       "1                                  AITA For tell my parents their password is weaksauce..   \n",
       "2    AITA for getting pissed that my fiancé gave our personal password out to a stranger?   \n",
       "3                                                 AITA: For changing the Netflix password   \n",
       "4                          [WIBTA] Would I be the asshole if I cut my Dad off of Netflix?   \n",
       "5             AITA for calling out a family member for saying my former password outloud?   \n",
       "6                             AITA for kicking my siblings off of my Netflix and Disney+?   \n",
       "7                                                     AITA changing the Netflix password?   \n",
       "8                                     AITA for not wanting to give my password to my mom?   \n",
       "9  AITA because I refuse to give my in-laws the passwords to my streaming media accounts?   \n",
       "\n",
       "                                                                                                  Text  \n",
       "0  I (27f) have 3 siblings (28m, 34f, 38m). My parents have used the same crappy password for the l...  \n",
       "1  I (27f) have 3 siblings (28m, 34f, 38m). My parents have used the same crappy password for the l...  \n",
       "2  For context the password was to our DirectTV account to one of his coworkers that I do not know,...  \n",
       "3  So for the longest time I have been sharing my Netflix account with my family. It’s my two cousi...  \n",
       "4  About four of five years ago, my father retired to another state and was trying to cut back on b...  \n",
       "5  I used to play video games with my brother/cousin and would share accounts long time ago. \\n\\nJu...  \n",
       "6  A few months ago my siblings stopped talking to me for no apparent reason- there was no argument...  \n",
       "7  https://m.imgur.com/gallery/QjWKfmD\\n\\nI had to change the Netflix password because no one knew ...  \n",
       "8  To start off, it probably noteworthy that I am 18 years old. This would obviously be a different...  \n",
       "9  Apparently I’m an asshole because I refuse to give my Netflix and other streaming media password...  "
      ]
     },
     "execution_count": 25,
     "metadata": {},
     "output_type": "execute_result"
    }
   ],
   "source": [
    "pwddf.head(10) # user input method"
   ]
  },
  {
   "cell_type": "code",
   "execution_count": 26,
   "id": "f1ad1b48-056d-41b9-96d2-119dd9b9e84a",
   "metadata": {},
   "outputs": [],
   "source": [
    "ndf = pd.DataFrame()\n",
    "ndf['Avg_method_score'] = avgdf['Similarity Score']\n",
    "ndf['UserInput_method_score'] = pwddf['Similarity Score']\n",
    "ndf['rank'] = [x for x in range(1, len(avgdf) + 1)]"
   ]
  },
  {
   "cell_type": "code",
   "execution_count": 47,
   "id": "b2cbb224-a11d-437d-994c-870e8a020a90",
   "metadata": {},
   "outputs": [
    {
     "data": {
      "image/png": "[encoded data removed]",
      "text/plain": [
       "<Figure size 1440x720 with 1 Axes>"
      ]
     },
     "metadata": {
      "needs_background": "light"
     },
     "output_type": "display_data"
    }
   ],
   "source": [
    "ndf.set_index('rank').plot(figsize=(20,10), style='.-', ylabel='Similarity Score', grid=True);"
   ]
  },
  {
   "cell_type": "code",
   "execution_count": 48,
   "id": "92c2780f-5b70-4304-b3e2-eedf037cdc4b",
   "metadata": {},
   "outputs": [
    {
     "data": {
      "image/png": "[encoded data removed]",
      "text/plain": [
       "<Figure size 1440x720 with 1 Axes>"
      ]
     },
     "metadata": {
      "needs_background": "light"
     },
     "output_type": "display_data"
    }
   ],
   "source": [
    "ndf.set_index('rank').plot(figsize=(20,10), style='.-', ylabel='Similarity Score', grid=True, xlim=(-10,200));"
   ]
  },
  {
   "cell_type": "code",
   "execution_count": null,
   "id": "3e279763-d059-4fc9-9c3d-9a1a89c1daae",
   "metadata": {},
   "outputs": [],
   "source": []
  }
 ],
 "metadata": {
  "kernelspec": {
   "display_name": "Python 3",
   "language": "python",
   "name": "python3"
  },
  "language_info": {
   "codemirror_mode": {
    "name": "ipython",
    "version": 3
   },
   "file_extension": ".py",
   "mimetype": "text/x-python",
   "name": "python",
   "nbconvert_exporter": "python",
   "pygments_lexer": "ipython3",
   "version": "3.8.8"
  }
 },
 "nbformat": 4,
 "nbformat_minor": 5
}
