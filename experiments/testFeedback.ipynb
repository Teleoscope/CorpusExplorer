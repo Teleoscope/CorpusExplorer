{
 "cells": [
  {
   "cell_type": "markdown",
   "id": "14a82cb3-e73c-4d66-809e-d2fd25d77b5e",
   "metadata": {},
   "source": [
    "**OBJECTIVE**\n",
    "- Implements the feedback system i.e. when a user faves or hides a document for a given MDB query result, this notebook updates the query vector with the document that was faved/hidden and re-ranks the posts already displayed."
   ]
  },
  {
   "cell_type": "code",
   "execution_count": null,
   "id": "148c8c8e-6645-41f8-9bbe-0925964ad9d7",
   "metadata": {},
   "outputs": [],
   "source": [
    "import pickle, tqdm, time, os, tensorflow_hub as hub, numpy as np, pandas as pd\n",
    "from pymongo import MongoClient\n",
    "from pprint import pprint"
   ]
  },
  {
   "cell_type": "code",
   "execution_count": null,
   "id": "424184e6-b561-406e-a91e-46a499d1863d",
   "metadata": {},
   "outputs": [],
   "source": [
    "def getMongoUri(auth_filename='auths/mongo_uri.pkl'):\n",
    "    with open(auth_filename, 'rb') as file:\n",
    "        pwd = pickle.load(file)\n",
    "    return pwd['mongo_uri']\n",
    "\n",
    "def createMongoClient(db='aita'):\n",
    "    mongo_uri = getMongoUri()\n",
    "    client = MongoClient(mongo_uri)\n",
    "    db = client.aita\n",
    "    return client, db"
   ]
  },
  {
   "cell_type": "code",
   "execution_count": null,
   "id": "764ca4e9-e11d-4765-9481-ecfbf72b56e8",
   "metadata": {},
   "outputs": [],
   "source": [
    "client, db = createMongoClient()"
   ]
  },
  {
   "cell_type": "code",
   "execution_count": null,
   "id": "868a6ce9-078c-4c11-9dba-4a50dbd3bade",
   "metadata": {},
   "outputs": [],
   "source": [
    "query_string = 'password' # assume the current query is password\n",
    "post_id = 'aeeomg' # the id of the post that was hidden/faved\n",
    "status = 1 # this one was faved(1). hidden = -1."
   ]
  },
  {
   "cell_type": "code",
   "execution_count": null,
   "id": "55fa64ea-76d0-4f65-827b-1589a29a14fd",
   "metadata": {},
   "outputs": [],
   "source": [
    "# loads USE model O(n) version\n",
    "embed = hub.load(\"https://tfhub.dev/google/universal-sentence-encoder/4\")"
   ]
  },
  {
   "cell_type": "code",
   "execution_count": null,
   "id": "6f2dd0e7-0d97-4269-ac6b-f73f1d86bf0c",
   "metadata": {},
   "outputs": [],
   "source": [
    "qvector = embed([query_string]).numpy() # convert query to vector"
   ]
  },
  {
   "cell_type": "code",
   "execution_count": null,
   "id": "57d9ad90-1224-456a-a540-e4379040225f",
   "metadata": {},
   "outputs": [],
   "source": [
    "# get current posts displayed for current query_string\n",
    "rids = db.queries.find_one({\"query\": query_string}, projection={'reddit_ids':1})['reddit_ids']\n",
    "# get the post that was hidden/faved\n",
    "feedbackPost = db.clean.posts.find_one({\"id\": post_id}, projection={'vector':1})"
   ]
  },
  {
   "cell_type": "code",
   "execution_count": null,
   "id": "bc3bd62e-bb7a-4b2e-b293-4d4ca4fbbb4c",
   "metadata": {},
   "outputs": [],
   "source": [
    "feedbackVector = np.array(feedbackPost['vector']) # get embedding of that post"
   ]
  },
  {
   "cell_type": "code",
   "execution_count": null,
   "id": "20f3f981-0c87-41f9-8a03-e16e7b5522a4",
   "metadata": {},
   "outputs": [],
   "source": [
    "SENSITIVITY = 0.75\n",
    "def update_embedding(q_vector, feedback_vector, feedback):\n",
    "    new_q = (1 - feedback*SENSITIVITY)*q_vector + feedback*SENSITIVITY*feedback_vector\n",
    "    return new_q"
   ]
  },
  {
   "cell_type": "code",
   "execution_count": null,
   "id": "432db758-333c-43b6-8f10-454fc4665dc3",
   "metadata": {},
   "outputs": [],
   "source": [
    "qprime = update_embedding(qvector, feedbackVector, status) # move query towards/away from faved/hidden post"
   ]
  },
  {
   "cell_type": "code",
   "execution_count": null,
   "id": "36780f85-d260-4444-85e1-e854adeeeaf5",
   "metadata": {},
   "outputs": [],
   "source": [
    "postSubset = []\n",
    "for p in db.clean.posts.find({'id': {'$in':rids}}, projection={'id':1, 'vector':1}):\n",
    "    postSubset.append(p)"
   ]
  },
  {
   "cell_type": "code",
   "execution_count": null,
   "id": "737ff129-0896-44ce-8871-535cdf5e2e9a",
   "metadata": {},
   "outputs": [],
   "source": [
    "vectors = np.array([x['vector'] for x in postSubset])"
   ]
  },
  {
   "cell_type": "code",
   "execution_count": null,
   "id": "48e1d096-4827-4403-b50b-28cfb26b56d8",
   "metadata": {},
   "outputs": [],
   "source": [
    "vectors.shape"
   ]
  },
  {
   "cell_type": "code",
   "execution_count": null,
   "id": "3466f3ff-713a-491c-a0ba-6ee40ea9f38b",
   "metadata": {},
   "outputs": [],
   "source": [
    "scores = qprime.dot(vectors.T).flatten()"
   ]
  },
  {
   "cell_type": "code",
   "execution_count": null,
   "id": "e23ffbaf-e0e5-4d4d-b292-84230bcff12f",
   "metadata": {},
   "outputs": [],
   "source": [
    "ret = []\n",
    "for i in range(len(postSubset)):\n",
    "    id_ = postSubset[i]['id']\n",
    "    score = scores[i]\n",
    "    ret.append((id_,score))"
   ]
  },
  {
   "cell_type": "code",
   "execution_count": null,
   "id": "4a6e7278-cae9-4ed6-96f6-833fe108cfe5",
   "metadata": {},
   "outputs": [],
   "source": [
    "ret.sort(key=lambda x:x[1], reverse=True)"
   ]
  },
  {
   "cell_type": "code",
   "execution_count": null,
   "id": "1328fd43-f514-4ae5-a459-cf5748722048",
   "metadata": {},
   "outputs": [],
   "source": [
    "db.queries.update_one({'query':query_string}, {'$set': { \"ranked_post_ids\" : ret}});"
   ]
  },
  {
   "cell_type": "code",
   "execution_count": null,
   "id": "8871e259-cee4-41b3-ad1e-a545b93b165b",
   "metadata": {},
   "outputs": [],
   "source": [
    "ret"
   ]
  }
 ],
 "metadata": {
  "kernelspec": {
   "display_name": "Python 3",
   "language": "python",
   "name": "python3"
  },
  "language_info": {
   "codemirror_mode": {
    "name": "ipython",
    "version": 3
   },
   "file_extension": ".py",
   "mimetype": "text/x-python",
   "name": "python",
   "nbconvert_exporter": "python",
   "pygments_lexer": "ipython3",
   "version": "3.6.13"
  }
 },
 "nbformat": 4,
 "nbformat_minor": 5
}
