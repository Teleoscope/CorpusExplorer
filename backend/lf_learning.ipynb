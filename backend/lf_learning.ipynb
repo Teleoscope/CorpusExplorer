{
 "cells": [
  {
   "cell_type": "markdown",
   "id": "d979288c-7e14-4d92-b9de-6c2acc9571ff",
   "metadata": {
    "tags": []
   },
   "source": [
    "### Boilerplate"
   ]
  },
  {
   "cell_type": "code",
   "execution_count": 1,
   "id": "84f9d1b9-d81c-4c83-9c9d-30d03eab859e",
   "metadata": {},
   "outputs": [],
   "source": [
    "import tqdm, numpy as np\n",
    "import matplotlib.pyplot as plt\n",
    "import utils\n",
    "import umap\n",
    "import hdbscan\n",
    "import matplotlib.pyplot as plt\n",
    "import logging\n",
    "from bson.objectid import ObjectId\n",
    "import gc\n",
    "import tasks\n",
    "from sklearn.preprocessing import StandardScaler\n",
    "import numba\n",
    "from scipy.spatial import distance\n",
    "from sklearn.metrics.pairwise import cosine_similarity, euclidean_distances, cosine_distances\n",
    "import umap.plot\n",
    "from sklearn.cluster import KMeans\n",
    "\n",
    "# for jupyter notebook widgets\n",
    "import ipywidgets as widgets\n",
    "from ipywidgets import HBox, VBox\n",
    "from IPython.display import display\n",
    "from ipywidgets import interact, interactive"
   ]
  },
  {
   "cell_type": "code",
   "execution_count": 2,
   "id": "9ac8027c-af0d-4bf3-8d06-176ced95da0f",
   "metadata": {
    "tags": []
   },
   "outputs": [
    {
     "data": {
      "text/plain": [
       "Database(MongoClient(host=['20.220.215.35:27017'], document_class=dict, tz_aware=False, connect=True, authsource='admin', authmechanism='SCRAM-SHA-256', connecttimeoutms=50000, serverselectiontimeoutms=50000, directconnection=True, replicaset='rs0'), 'aita')"
      ]
     },
     "execution_count": 2,
     "metadata": {},
     "output_type": "execute_result"
    }
   ],
   "source": [
    "# connect to database\n",
    "db = utils.connect()\n",
    "db"
   ]
  },
  {
   "cell_type": "markdown",
   "id": "9cfe4861-8e82-4434-b536-fcf9541d0648",
   "metadata": {},
   "source": [
    "### Setup Human Clusters"
   ]
  },
  {
   "cell_type": "code",
   "execution_count": 3,
   "id": "4f4448d3-9fca-44af-a4df-16718f686a65",
   "metadata": {},
   "outputs": [
    {
     "name": "stdout",
     "output_type": "stream",
     "text": [
      "Retrieved 3 groups from database\n"
     ]
    }
   ],
   "source": [
    "# hardcoded group id strings\n",
    "group_id_strings = ['63901a89e189962b660959cf', '63901a92931eeac91c9924a1', '63901a96e189962b660959d3']\n",
    "\n",
    "# convert to objectId's\n",
    "group_ids = [ObjectId(str(id)) for id in group_id_strings]\n",
    "\n",
    "# retrieve groups from database\n",
    "groups = list(db.groups.find({\"_id\":{\"$in\" : group_ids}}))\n",
    "print(\"Retrieved \" + str(len(groups)) + \" groups from database\")"
   ]
  },
  {
   "cell_type": "code",
   "execution_count": 4,
   "id": "8244c486-26d3-409d-b914-30eaec8a44a7",
   "metadata": {},
   "outputs": [
    {
     "data": {
      "text/plain": [
       "['hetv62', 'lwd55z', 'dhbdpv', 'eyj0sv']"
      ]
     },
     "execution_count": 4,
     "metadata": {},
     "output_type": "execute_result"
    }
   ],
   "source": [
    "groups[0]['history'][0]['included_documents']"
   ]
  },
  {
   "cell_type": "code",
   "execution_count": 5,
   "id": "9c27a74c-e029-40a5-b0ee-c69cd123b4c9",
   "metadata": {},
   "outputs": [
    {
     "data": {
      "text/plain": [
       "{'id': 1, 'textVector': 1}"
      ]
     },
     "execution_count": 5,
     "metadata": {},
     "output_type": "execute_result"
    }
   ],
   "source": [
    "# projection here to only include the fields we want\n",
    "projection = {'id': 1, 'textVector': 1}\n",
    "projection"
   ]
  },
  {
   "cell_type": "markdown",
   "id": "fd74e643-031e-4e66-a2d1-ba5c04f935df",
   "metadata": {
    "tags": []
   },
   "source": [
    "### Create Training Set"
   ]
  },
  {
   "cell_type": "markdown",
   "id": "7f1cefb4-31cb-4b2b-9a55-79b62018e5ca",
   "metadata": {},
   "source": [
    "Options to define training set:\n",
    "1. Use the first groups teleoscope ordering\n",
    "2. Use all documents\n",
    "3. Create a new teleo vec from all documents in human clusters\n",
    "\n",
    "Embeddings\n",
    "- save training set upon creation (check if created or not)\n",
    "    - we need to save both ids and vectors for recall at the end"
   ]
  },
  {
   "cell_type": "markdown",
   "id": "3c54c336-714e-42b1-94b5-24fe2b2f707e",
   "metadata": {
    "tags": []
   },
   "source": [
    "#### Save & Create Training Data"
   ]
  },
  {
   "cell_type": "markdown",
   "id": "415165c7-d80c-4728-b3e2-f6659abe0808",
   "metadata": {
    "tags": []
   },
   "source": [
    "##### Using First Group's Teleoscope Ordering\n",
    "\n",
    "Change Raw cells below to Code if you need to reload document ids / vectors"
   ]
  },
  {
   "cell_type": "raw",
   "id": "5b7f4021-45dc-4cb9-b2a2-97e34f9a65f0",
   "metadata": {},
   "source": [
    "# default to ordering documents relative to first group's teleoscope\n",
    "teleoscope_oid = groups[0][\"teleoscope\"]\n",
    "teleoscope_oid"
   ]
  },
  {
   "cell_type": "raw",
   "id": "15ea38dd-41f2-4b24-8fa1-808457876294",
   "metadata": {
    "tags": []
   },
   "source": [
    "teleoscope = db.teleoscopes.find_one({\"_id\": ObjectId(str(teleoscope_oid))})\n",
    "#teleoscope"
   ]
  },
  {
   "cell_type": "raw",
   "id": "abff2e50-b003-4f9e-a8c7-33173ad74c83",
   "metadata": {},
   "source": [
    "# saved as ordered_documents.npz\n",
    "# change to code cell if load is needed\n",
    "\n",
    "# get Teleoscope from GridFS\n",
    "all_ordered_documents = utils.gridfsDownload(db, \"teleoscopes\", ObjectId(str(teleoscope[\"history\"][0][\"ranked_document_ids\"])))\n",
    "\n",
    "# np.savez_compressed('all_ordered_documents', ord_docs=all_ordered_documents)\n",
    "# all_ordered_documents = np.load('all_ordered_documents.npz')['ord_docs']\n",
    "\n",
    "len(all_ordered_documents)"
   ]
  },
  {
   "cell_type": "raw",
   "id": "4a9fca45-e956-4f1a-bb91-c899f831d225",
   "metadata": {},
   "source": [
    "# grab only subset of the ordered documents\n",
    "limit = 10000\n",
    "# TODO: does this line generate an out of bounds access?\n",
    "ordered_documents = all_ordered_documents[0:limit]\n",
    "limit = min(limit, len(ordered_documents))\n",
    "limit\n",
    "\n",
    "# cursor is a generator which means it yields a new doc one at a time\n",
    "cursor = db.documents.find(\n",
    "    # query\n",
    "    {\"id\":{\"$in\": [document[0] for document in ordered_documents]}},\n",
    "    projection=projection,\n",
    "    # batch size means number of documents at a time taken from MDB, no impact on iteration\n",
    "    batch_size=500\n",
    ")\n",
    "document_ids = []\n",
    "document_vectors = []\n",
    "\n",
    "# for large datasets, this will take a while. Would be better to find out whether the UMAP fns can \n",
    "# accept generators for lazy calculation\n",
    "for document in tqdm.tqdm(cursor, total=limit):\n",
    "    document_ids.append(document[\"id\"])\n",
    "    document_vectors.append(document[\"textVector\"])\n",
    "\n",
    "print(\"There are \" + str(len(document_ids)) + \" document ids.\")\n",
    "print(\"There are \" + str(len(document_vectors)) + \" document vectors.\")\n",
    "\n",
    "np.savez_compressed('teleo_order_docs', doc_ids=document_ids, doc_vecs=document_vectors)\n"
   ]
  },
  {
   "cell_type": "markdown",
   "id": "8016c96f-5296-4ce3-9ec0-c61dd5da3750",
   "metadata": {
    "tags": []
   },
   "source": [
    "#### Load Training Data"
   ]
  },
  {
   "cell_type": "markdown",
   "id": "9c103ebf-2aab-43b3-859f-e05289a23da8",
   "metadata": {
    "tags": []
   },
   "source": [
    "##### Using First Group's Teleoscope Ordering"
   ]
  },
  {
   "cell_type": "code",
   "execution_count": 6,
   "id": "c552d0de-f0f1-47b1-a2ac-555790e3dd74",
   "metadata": {},
   "outputs": [
    {
     "data": {
      "text/plain": [
       "'c0xy3x'"
      ]
     },
     "execution_count": 6,
     "metadata": {},
     "output_type": "execute_result"
    }
   ],
   "source": [
    "loaded = np.load('teleo_order_docs.npz')\n",
    "document_ids = loaded['doc_ids'].tolist()\n",
    "document_vectors = loaded['doc_vecs']\n",
    "document_ids[1500]\n"
   ]
  },
  {
   "cell_type": "markdown",
   "id": "349b78ab-60ad-49a3-8fa7-4b9de0b109eb",
   "metadata": {
    "tags": []
   },
   "source": [
    "#### Append documents in human clusters"
   ]
  },
  {
   "cell_type": "code",
   "execution_count": 7,
   "id": "c475f795-f600-4618-b95e-a80caf02b683",
   "metadata": {},
   "outputs": [
    {
     "name": "stdout",
     "output_type": "stream",
     "text": [
      "\n",
      "Adding group 1\n",
      "Document ids has the shape:  10004\n",
      "Document vectors has the shape:  (10004, 512)\n",
      "\n",
      "Adding group 2\n",
      "Document ids has the shape:  10011\n",
      "Document vectors has the shape:  (10011, 512)\n",
      "\n",
      "Adding group 3\n",
      "Document ids has the shape:  10016\n",
      "Document vectors has the shape:  (10016, 512)\n"
     ]
    }
   ],
   "source": [
    "i = 0\n",
    "for group in groups:\n",
    "    \n",
    "    # grab latest history item for each group\n",
    "    group_document_ids = group[\"history\"][0][\"included_documents\"]\n",
    "    \n",
    "    for id in group_document_ids:\n",
    "        \n",
    "        try:\n",
    "            index = document_ids.index(id)\n",
    "            indices.append(index)\n",
    "        \n",
    "        except:\n",
    "            document = db.documents.find_one({\"id\": id}, projection=projection)\n",
    "            document_ids.append(id)\n",
    "            vector = np.array(document[\"textVector\"]).reshape((1, 512))\n",
    "            document_vectors = np.append(document_vectors, vector, axis=0)\n",
    "\n",
    "    i += 1\n",
    "    \n",
    "    print(f'\\nAdding group {i}')\n",
    "    print(\"Document ids has the shape: \", len(document_ids))\n",
    "    print(\"Document vectors has the shape: \", document_vectors.shape)"
   ]
  },
  {
   "cell_type": "markdown",
   "id": "21d2a7fd-49f4-4880-94e0-68a47c16ccb3",
   "metadata": {},
   "source": [
    "### Clustering"
   ]
  },
  {
   "cell_type": "markdown",
   "id": "63a11868-4892-426a-be99-3f87806c185b",
   "metadata": {
    "tags": []
   },
   "source": [
    "#### UMAP"
   ]
  },
  {
   "cell_type": "markdown",
   "id": "c760fc67-9fb4-4fc1-a636-3e425816de37",
   "metadata": {},
   "source": [
    "Notes\n",
    "- DR by default hyperparameters\n",
    "- low_memory uses less memory but longer compute time\n",
    "- verbose just logs info\n",
    "\n",
    "TODO\n",
    "- define custom metric\n",
    "- what args are passed to custom metric\n",
    "- how do we check if args are a subset of group?\n",
    "- can we use conditional or do we need matrix\n",
    "\n",
    "ISSUES\n",
    "- general \n",
    "    - how to check if i and j are in the same group\n",
    "    - i and j are vectors\n",
    "    - is it possible to pass i and j as indices instead of vectors?\n",
    "- conditional metric\n",
    "    - groups contain ids\n",
    "    - maybe search for indices of both id and vec then compare? seems expensive\n",
    "    - maybe translate vec to id (or visversa) then compare? seems expensive\n",
    "    - add a new dimension that is the id of vector for easy lookup\n",
    "- matrix metric\n",
    "    - use metric='precomputed'\n",
    "    - expensive as fuck to build matrix\n",
    "    - how to reduce cost?"
   ]
  },
  {
   "cell_type": "markdown",
   "id": "a4a4eeec-20b3-4cc4-adaa-4862a594cf23",
   "metadata": {
    "tags": []
   },
   "source": [
    "##### Custom Metric"
   ]
  },
  {
   "cell_type": "raw",
   "id": "505df7b9-400f-4060-8e3a-9f64bbe3f6fb",
   "metadata": {},
   "source": [
    "# TODO\n",
    "# add a column to each vector that is the vectors index in document_vectors"
   ]
  },
  {
   "cell_type": "markdown",
   "id": "52724b5f-d725-443b-8c1d-ffef72687b78",
   "metadata": {
    "tags": []
   },
   "source": [
    "##### Organize Document IDs & Indices in Human Clusters"
   ]
  },
  {
   "cell_type": "code",
   "execution_count": 8,
   "id": "6b9e3293-f871-4166-a1aa-42be119d3e13",
   "metadata": {},
   "outputs": [
    {
     "name": "stdout",
     "output_type": "stream",
     "text": [
      "{0: [5630, 7789, 2801, 3965], 1: [10004, 10005, 10006, 10007, 6135, 9393, 10010], 2: [10011, 10012, 10013, 10014, 10015]}\n",
      "{0: ['hetv62', 'lwd55z', 'dhbdpv', 'eyj0sv'], 1: ['g3y7dc', 'j8nzf5', 'fs0vuw', 'q9zlgr', 'ia4w5v', 'ruuxs1', 'hw16a9'], 2: ['mnqbp9', 'spk73c', 'qqwzth', 'dfon3v', 'bqafew']}\n"
     ]
    }
   ],
   "source": [
    "# use dict or ndarray?\n",
    "group_doc_indices = {}\n",
    "group_doc_ids = {}\n",
    "\n",
    "for group in range(len(groups)):\n",
    "    \n",
    "    curr_id = groups[group]['history'][0]['included_documents']\n",
    "    \n",
    "    indices = []\n",
    "    ids = []\n",
    "    \n",
    "    for i in curr_id:\n",
    "        indices.append(document_ids.index(i))\n",
    "        ids.append(i)\n",
    "    \n",
    "    group_doc_indices[group] = indices\n",
    "    group_doc_ids[group] = ids\n",
    "    \n",
    "print(group_doc_indices)\n",
    "print(group_doc_ids)"
   ]
  },
  {
   "cell_type": "markdown",
   "id": "0cd8128d-9cc6-4c7f-88bb-2057d46160f6",
   "metadata": {},
   "source": [
    "##### Create Distance Matrix"
   ]
  },
  {
   "cell_type": "raw",
   "id": "db481cc6-d511-492b-8218-3aaa427e460d",
   "metadata": {},
   "source": [
    "# using sklean cosine distances\n",
    "dm_cos = cosine_distances(document_vectors)"
   ]
  },
  {
   "cell_type": "raw",
   "id": "ee022d67-6fb3-45d6-a6b1-c3f90079a157",
   "metadata": {},
   "source": [
    "# using my slow method \n",
    "load_dist_mat = np.load('distance_matrix.npz')\n",
    "my_dm = load_dist_mat['mat']"
   ]
  },
  {
   "cell_type": "code",
   "execution_count": 9,
   "id": "c016a88f-8909-4efb-8f42-8df9bbe9b2d1",
   "metadata": {},
   "outputs": [
    {
     "data": {
      "text/plain": [
       "(10016, 10016)"
      ]
     },
     "execution_count": 9,
     "metadata": {},
     "output_type": "execute_result"
    }
   ],
   "source": [
    "# using sklean euclidean distances\n",
    "dm = euclidean_distances(document_vectors)\n",
    "dm.shape"
   ]
  },
  {
   "cell_type": "markdown",
   "id": "2705b26c-aa08-4a3e-9c93-af7e88549128",
   "metadata": {},
   "source": [
    "##### Update Distances for Documents within the same human cluster"
   ]
  },
  {
   "cell_type": "code",
   "execution_count": 10,
   "id": "3f843581-09ad-4a6d-a08f-126b0c7a083c",
   "metadata": {
    "tags": []
   },
   "outputs": [],
   "source": [
    "# TODO - SIMPLIFY THIS METHOD USING MAP FUNCTION\n",
    "for group in range(len(groups)):\n",
    "    \n",
    "    docs = groups[group]['history'][0]['included_documents']\n",
    "\n",
    "    for i in range(len(docs)):\n",
    "        \n",
    "        index_i = document_ids.index(docs[i])\n",
    "        \n",
    "        for j in range(len(docs)):\n",
    "        \n",
    "            index_j = document_ids.index(docs[j])\n",
    "            dm[index_i, index_j] = 0 \n"
   ]
  },
  {
   "cell_type": "code",
   "execution_count": 11,
   "id": "8fe95e60-a7af-44a3-a710-d84cdb504bb2",
   "metadata": {},
   "outputs": [
    {
     "data": {
      "text/plain": [
       "True"
      ]
     },
     "execution_count": 11,
     "metadata": {},
     "output_type": "execute_result"
    }
   ],
   "source": [
    "# sanity check to make sure two docs in the same human cluster are distance 0\n",
    "i = group_doc_indices[0][2]\n",
    "j = group_doc_indices[0][3]\n",
    "dm[i,j] == 0"
   ]
  },
  {
   "cell_type": "markdown",
   "id": "21407661-f656-4b12-8ea8-185de17acd27",
   "metadata": {
    "tags": []
   },
   "source": [
    "##### Reduction"
   ]
  },
  {
   "cell_type": "code",
   "execution_count": 55,
   "id": "a243179c-5c48-4e89-a056-75db8213bf01",
   "metadata": {},
   "outputs": [
    {
     "name": "stderr",
     "output_type": "stream",
     "text": [
      "/Users/leofk/opt/anaconda3/envs/mallard/lib/python3.10/site-packages/umap/umap_.py:1780: UserWarning: using precomputed metric; inverse_transform will be unavailable\n",
      "  warn(\"using precomputed metric; inverse_transform will be unavailable\")\n"
     ]
    },
    {
     "name": "stdout",
     "output_type": "stream",
     "text": [
      "UMAP(metric='precomputed', n_components=5, n_neighbors=10, verbose=True)\n",
      "Wed Jan 25 17:55:59 2023 Construct fuzzy simplicial set\n",
      "Wed Jan 25 17:55:59 2023 Finding Nearest Neighbors\n",
      "Wed Jan 25 17:55:59 2023 Finished Nearest Neighbor Search\n",
      "Wed Jan 25 17:56:00 2023 Construct embedding\n"
     ]
    },
    {
     "data": {
      "application/vnd.jupyter.widget-view+json": {
       "model_id": "f8fc4bf3be7b42b78a5543584f3b0577",
       "version_major": 2,
       "version_minor": 0
      },
      "text/plain": [
       "Epochs completed:   0%|            0/200 [00:00]"
      ]
     },
     "metadata": {},
     "output_type": "display_data"
    },
    {
     "name": "stdout",
     "output_type": "stream",
     "text": [
      "Wed Jan 25 17:56:03 2023 Finished embedding\n"
     ]
    }
   ],
   "source": [
    "umap_embeddings = umap.UMAP(\n",
    "    verbose=True,\n",
    "    low_memory=True,\n",
    "    metric=\"precomputed\", # use distance matrix\n",
    "    n_components=5, # reduce to 5 dimensions\n",
    "    n_neighbors=10,\n",
    "    min_dist=0.1,\n",
    ").fit_transform(dm)"
   ]
  },
  {
   "cell_type": "code",
   "execution_count": 56,
   "id": "df1e5cf5-97ff-40c6-a4cf-4e1e3b368c40",
   "metadata": {},
   "outputs": [
    {
     "data": {
      "text/plain": [
       "(10016, 5)"
      ]
     },
     "execution_count": 56,
     "metadata": {},
     "output_type": "execute_result"
    }
   ],
   "source": [
    "umap_embeddings.shape"
   ]
  },
  {
   "cell_type": "code",
   "execution_count": 57,
   "id": "9fd7c235-f03b-43fc-a1b6-6a848586c6a1",
   "metadata": {
    "tags": []
   },
   "outputs": [
    {
     "name": "stdout",
     "output_type": "stream",
     "text": [
      "Group 0\n",
      "AVG Dist = 0.16823291406035423\n",
      "\n",
      "Group 1\n",
      "AVG Dist = 0.04012156384331839\n",
      "\n",
      "Group 2\n",
      "AVG Dist = 0.04241841197013855\n",
      "\n"
     ]
    }
   ],
   "source": [
    "# compute inter cluster distances for human groups\n",
    "for group in range(len(groups)):\n",
    "    \n",
    "    docs = groups[group]['history'][0]['included_documents']\n",
    "    print(f'Group {group}')\n",
    "    dst = []\n",
    "    \n",
    "    for i in range(len(docs)):\n",
    "        \n",
    "        index_i = document_ids.index(docs[i])\n",
    "        a = umap_embeddings[index_i]\n",
    "        \n",
    "        for j in range(len(docs)):\n",
    "        \n",
    "            index_j = document_ids.index(docs[j])\n",
    "            b = umap_embeddings[index_j]\n",
    "            euc_a_b = euclidean_distances([a],[b])[0][0]\n",
    "            dst.append(euc_a_b)\n",
    "            # print(f'dist({index_i}, {index_j}) = {euc_a_b}')\n",
    "    \n",
    "    mean = sum(dst) / len(dst)\n",
    "    print(f'AVG Dist = {mean}\\n')"
   ]
  },
  {
   "cell_type": "markdown",
   "id": "854923fe-c85f-4224-a1bc-18e0fd5df75a",
   "metadata": {
    "tags": []
   },
   "source": [
    "#### HDBSCAN"
   ]
  },
  {
   "cell_type": "markdown",
   "id": "607593d5-4d62-4e0e-b5a4-2fb581188c3b",
   "metadata": {},
   "source": [
    "Notes\n",
    "- Clustering by default hyperparameters\n",
    "- Resultant labels are in the same ordering as data\n",
    "\n",
    "TODO\n",
    "- User parameterize hyperparams\n",
    "- Use custom metric hyperparam here too?"
   ]
  },
  {
   "cell_type": "code",
   "execution_count": null,
   "id": "117b726a-f2cc-4589-9c0e-d1da1f495d3c",
   "metadata": {},
   "outputs": [
    {
     "name": "stdout",
     "output_type": "stream",
     "text": [
      "Num Clusters = 22 + outliers\n"
     ]
    }
   ],
   "source": [
    "hdbscan_labels = hdbscan.HDBSCAN(\n",
    "    min_cluster_size=10,    # num of neighbouring points needed to be considered a cluster\n",
    "    min_samples=None,         # how conservative clustering will be. larger is more conservative.\n",
    "    cluster_selection_epsilon=0.3,   # determines what it means for points to be “close”\n",
    ").fit_predict(umap_embeddings)\n",
    "\n",
    "print(f'Num Clusters = {max(hdbscan_labels)+1} + outliers')"
   ]
  },
  {
   "cell_type": "raw",
   "id": "f0cab874-a831-4a8f-a490-73aec661c46f",
   "metadata": {},
   "source": [
    "# kmeans for fun \n",
    "kmeans_labels = KMeans(n_clusters=10).fit(umap_embeddings).labels_\n",
    "kmeans_labels"
   ]
  },
  {
   "cell_type": "markdown",
   "id": "b655a679-ee5d-4707-b7b4-cd8b968dfa5b",
   "metadata": {
    "tags": []
   },
   "source": [
    "#### Results\n",
    "Are human clusters maintained?"
   ]
  },
  {
   "cell_type": "code",
   "execution_count": 63,
   "id": "f4b554f2-7aa7-4f62-9b15-cdd4f41b4ce3",
   "metadata": {},
   "outputs": [],
   "source": [
    "label_array = np.array(hdbscan_labels)\n",
    "clusters = {}\n",
    "\n",
    "# iterate over given labels\n",
    "for hdbscan_label in set(hdbscan_labels):\n",
    "        \n",
    "        # find indices of documents for a current label\n",
    "        document_indices_scalar = np.where(label_array == hdbscan_label)[0]\n",
    "        document_indices = [int(i) for i in document_indices_scalar]\n",
    "        \n",
    "        # create list of document ids that are in current label\n",
    "        documents = []\n",
    "        \n",
    "        for i in document_indices:\n",
    "            documents.append(document_ids[i])\n",
    "        \n",
    "        # add label and respective document ids to clusters dictionary\n",
    "        clusters[hdbscan_label] = documents\n",
    "        "
   ]
  },
  {
   "cell_type": "code",
   "execution_count": 94,
   "id": "9ba60d93-5701-4086-979d-091f1ad20645",
   "metadata": {},
   "outputs": [
    {
     "name": "stdout",
     "output_type": "stream",
     "text": [
      "\n",
      "Labels for group = 0\n",
      "\n",
      "hetv62 19\n",
      "lwd55z 19\n",
      "dhbdpv 19\n",
      "eyj0sv 19\n",
      "\n",
      "Labels for group = 1\n",
      "\n",
      "g3y7dc 15\n",
      "j8nzf5 15\n",
      "fs0vuw 15\n",
      "q9zlgr 15\n",
      "ia4w5v 15\n",
      "ruuxs1 15\n",
      "hw16a9 15\n",
      "\n",
      "Labels for group = 2\n",
      "\n",
      "mnqbp9 12\n",
      "spk73c 12\n",
      "qqwzth 12\n",
      "dfon3v 12\n",
      "bqafew 12\n"
     ]
    }
   ],
   "source": [
    "# examine matchings between human labelled clusters and machine labelled clusters\n",
    "for group in group_doc_indices:\n",
    "    print(f'\\nLabels for group = {group}\\n')\n",
    "    for index in group_doc_indices[group]:\n",
    "        print(document_ids[index], hdbscan_labels[index])"
   ]
  },
  {
   "cell_type": "markdown",
   "id": "7cd7f2ed-ff3c-4834-9d13-af0877255cdf",
   "metadata": {},
   "source": [
    "### Visualize"
   ]
  },
  {
   "cell_type": "code",
   "execution_count": 89,
   "id": "25e0711d-88b2-4174-92c7-6dc11468d496",
   "metadata": {},
   "outputs": [
    {
     "name": "stdout",
     "output_type": "stream",
     "text": [
      "UMAP( verbose=True)\n",
      "Wed Jan 25 18:08:39 2023 Construct fuzzy simplicial set\n",
      "Wed Jan 25 18:08:39 2023 Finding Nearest Neighbors\n",
      "Wed Jan 25 18:08:39 2023 Building RP forest with 10 trees\n",
      "Wed Jan 25 18:08:39 2023 NN descent for 13 iterations\n",
      "\t 1  /  13\n",
      "\t 2  /  13\n",
      "\tStopping threshold met -- exiting after 2 iterations\n",
      "Wed Jan 25 18:08:39 2023 Finished Nearest Neighbor Search\n",
      "Wed Jan 25 18:08:39 2023 Construct embedding\n"
     ]
    },
    {
     "data": {
      "application/vnd.jupyter.widget-view+json": {
       "model_id": "61a40864d3eb4feab94f2e24b90da491",
       "version_major": 2,
       "version_minor": 0
      },
      "text/plain": [
       "Epochs completed:   0%|            0/200 [00:00]"
      ]
     },
     "metadata": {},
     "output_type": "display_data"
    },
    {
     "name": "stdout",
     "output_type": "stream",
     "text": [
      "Wed Jan 25 18:08:43 2023 Finished embedding\n"
     ]
    }
   ],
   "source": [
    "mapper = umap.UMAP(\n",
    "    verbose=True,\n",
    "    low_memory=True,\n",
    "    n_components=2, # reduce to 2 dimensions\n",
    ").fit(umap_embeddings)\n",
    "twod_umap = mapper.transform(umap_embeddings)"
   ]
  },
  {
   "cell_type": "code",
   "execution_count": 92,
   "id": "e648d100-77bb-421a-9009-c8d161365b59",
   "metadata": {},
   "outputs": [
    {
     "name": "stdout",
     "output_type": "stream",
     "text": [
      "Num Clusters = 20 + outliers\n"
     ]
    }
   ],
   "source": [
    "hdbscan_labels = hdbscan.HDBSCAN(\n",
    "    min_cluster_size=20,            # num of neighbouring points needed to be considered a cluster\n",
    "    min_samples=None,               # how conservative clustering will be. larger is more conservative.\n",
    "    cluster_selection_epsilon=0.5,   # what it means for points to be “close”\n",
    ").fit_predict(twod_umap)\n",
    "\n",
    "print(f'Num Clusters = {max(hdbscan_labels)+1} + outliers')"
   ]
  },
  {
   "cell_type": "code",
   "execution_count": 93,
   "id": "7b1d4a32-4402-47fc-ba72-620de17e0713",
   "metadata": {},
   "outputs": [
    {
     "data": {
      "text/plain": [
       "<AxesSubplot:>"
      ]
     },
     "execution_count": 93,
     "metadata": {},
     "output_type": "execute_result"
    },
    {
     "data": {
      "image/png": "[encoded data removed]",
      "text/plain": [
       "<Figure size 800x800 with 1 Axes>"
      ]
     },
     "metadata": {},
     "output_type": "display_data"
    }
   ],
   "source": [
    "umap.plot.points(mapper, labels=hdbscan_labels)"
   ]
  },
  {
   "cell_type": "code",
   "execution_count": null,
   "id": "d9c7e466-e764-4f3b-bd39-b67ab40c15a4",
   "metadata": {},
   "outputs": [],
   "source": []
  }
 ],
 "metadata": {
  "kernelspec": {
   "display_name": "Python [conda env:mallard]",
   "language": "python",
   "name": "conda-env-mallard-py"
  },
  "language_info": {
   "codemirror_mode": {
    "name": "ipython",
    "version": 3
   },
   "file_extension": ".py",
   "mimetype": "text/x-python",
   "name": "python",
   "nbconvert_exporter": "python",
   "pygments_lexer": "ipython3",
   "version": "3.10.6"
  },
  "vscode": {
   "interpreter": {
    "hash": "873bf3bf4ca629f02780c1468f98ab03c421afd8de10b4352774f82eeed6b96f"
   }
  }
 },
 "nbformat": 4,
 "nbformat_minor": 5
}
